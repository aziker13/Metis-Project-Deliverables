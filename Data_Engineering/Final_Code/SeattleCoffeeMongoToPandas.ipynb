{
 "cells": [
  {
   "cell_type": "code",
   "execution_count": 1,
   "id": "feb92d08",
   "metadata": {},
   "outputs": [
    {
     "name": "stderr",
     "output_type": "stream",
     "text": [
      "2021-12-16 13:51:29.566311: W tensorflow/stream_executor/platform/default/dso_loader.cc:64] Could not load dynamic library 'libcudart.so.11.0'; dlerror: libcudart.so.11.0: cannot open shared object file: No such file or directory\n",
      "2021-12-16 13:51:29.566370: I tensorflow/stream_executor/cuda/cudart_stub.cc:29] Ignore above cudart dlerror if you do not have a GPU set up on your machine.\n"
     ]
    }
   ],
   "source": [
    "import pandas as pd\n",
    "import spacy\n",
    "import numpy as np\n",
    "from textblob import TextBlob\n",
    "import re\n",
    "import string\n",
    "from sklearn.decomposition import NMF\n",
    "from sklearn.feature_extraction.text import CountVectorizer, TfidfVectorizer, ENGLISH_STOP_WORDS\n",
    "from pymongo import MongoClient\n",
    "from pprint import pprint"
   ]
  },
  {
   "cell_type": "code",
   "execution_count": 2,
   "id": "c6520079",
   "metadata": {},
   "outputs": [
    {
     "data": {
      "text/plain": [
       "['admin', 'books', 'coffee_reviews', 'config', 'events', 'local', 'outings']"
      ]
     },
     "execution_count": 2,
     "metadata": {},
     "output_type": "execute_result"
    }
   ],
   "source": [
    "client = MongoClient(\"mongodb://localhost:27017\")\n",
    "client.list_database_names()"
   ]
  },
  {
   "cell_type": "code",
   "execution_count": 3,
   "id": "fc931bd5",
   "metadata": {},
   "outputs": [
    {
     "data": {
      "text/plain": [
       "['reviews_col']"
      ]
     },
     "execution_count": 3,
     "metadata": {},
     "output_type": "execute_result"
    }
   ],
   "source": [
    "reviews_mongo = client.coffee_reviews\n",
    "reviews_mongo.list_collection_names()"
   ]
  },
  {
   "cell_type": "code",
   "execution_count": 13,
   "id": "c1b811ff",
   "metadata": {},
   "outputs": [],
   "source": [
    "def reviews_to_mongo(file):\n",
    "    df = pd.read_csv(file)\n",
    "    df.drop(columns='Unnamed: 0', inplace=True)\n",
    "    \n",
    "    rev_dict = df.to_dict(orient='list')\n",
    "    \n",
    "    reviews_mongo.reviews_col.insert_many([rev_dict], ordered=True)\n",
    "    \n",
    "    return 'download complete'"
   ]
  },
  {
   "cell_type": "code",
   "execution_count": 20,
   "id": "7f73c027",
   "metadata": {},
   "outputs": [],
   "source": [
    "files = ['Anchorhead Coffee_reviews.csv',\n",
    "        'Coffeeholic House_reviews.csv',\n",
    "        'Espresso Vivace Roasteria_reviews.csv',\n",
    "        'Milstead_reviews.csv',\n",
    "        'Moonshot Coffee_reviews.csv',\n",
    "        'Moore Coffee Shop_reviews.csv',\n",
    "        'Santo Coffee_reviews.csv',\n",
    "        'Storyville Coffee Company_reviews.csv',\n",
    "        'Sugar Bakery & Coffeehouse_reviews.csv']"
   ]
  },
  {
   "cell_type": "code",
   "execution_count": 17,
   "id": "201c6a16",
   "metadata": {},
   "outputs": [],
   "source": [
    "for file in files:\n",
    "    reviews_to_mongo(file)"
   ]
  },
  {
   "cell_type": "code",
   "execution_count": 31,
   "id": "d8ac0af8",
   "metadata": {},
   "outputs": [],
   "source": [
    "df2 = pd.DataFrame(list(reviews_mongo.reviews_col.aggregate([{'$unwind': '$reviews'}])))\n",
    "df2.columns = ['ID', 'shop_name', 'reviews']"
   ]
  },
  {
   "cell_type": "code",
   "execution_count": 32,
   "id": "6891fa1a",
   "metadata": {},
   "outputs": [],
   "source": [
    "files2 = ['Lighthouse Roasters',\n",
    "          'Anchorhead Coffee',\n",
    "        'Coffeeholic House',\n",
    "        'Espresso Vivace Roasteria',\n",
    "        'Milstead',\n",
    "        'Moonshot Coffee',\n",
    "        'Moore Coffee Shop',\n",
    "        'Santo Coffee',\n",
    "        'Storyville Coffee Company',\n",
    "        'Sugar Bakery & Coffeehouse']"
   ]
  },
  {
   "cell_type": "code",
   "execution_count": 33,
   "id": "3c5502c3",
   "metadata": {},
   "outputs": [
    {
     "data": {
      "text/plain": [
       "array(['Lighthouse Roasters', 'Anchorhead Coffee', 'Coffeeholic House',\n",
       "       'Espresso Vivace Roasteria', 'Milstead', 'Moonshot Coffee',\n",
       "       'Moore Coffee Shop', 'Santo Coffee', 'Storyville Coffee Company',\n",
       "       'Sugar Bakery & Coffeehouse'], dtype=object)"
      ]
     },
     "execution_count": 33,
     "metadata": {},
     "output_type": "execute_result"
    }
   ],
   "source": [
    "for i in range(0,10):\n",
    "    lh = list(df2.ID.unique())[i]\n",
    "    name = files2[i]\n",
    "    df2.replace({lh: f'{name}'}, inplace=True)\n",
    "df2.ID.unique()"
   ]
  },
  {
   "cell_type": "code",
   "execution_count": 35,
   "id": "a393ad20",
   "metadata": {},
   "outputs": [],
   "source": [
    "df2.drop(columns='shop_name', inplace=True)"
   ]
  },
  {
   "cell_type": "code",
   "execution_count": 36,
   "id": "0b9bf2ee",
   "metadata": {},
   "outputs": [
    {
     "name": "stdout",
     "output_type": "stream",
     "text": [
      "<class 'pandas.core.frame.DataFrame'>\n",
      "RangeIndex: 6057 entries, 0 to 6056\n",
      "Data columns (total 2 columns):\n",
      " #   Column   Non-Null Count  Dtype \n",
      "---  ------   --------------  ----- \n",
      " 0   ID       6057 non-null   object\n",
      " 1   reviews  6057 non-null   object\n",
      "dtypes: object(2)\n",
      "memory usage: 94.8+ KB\n"
     ]
    }
   ],
   "source": [
    "df2.info()"
   ]
  },
  {
   "cell_type": "code",
   "execution_count": 37,
   "id": "eb2badce",
   "metadata": {},
   "outputs": [],
   "source": [
    "df2.to_csv('Seattle_Coffee_Reviews.csv')"
   ]
  },
  {
   "cell_type": "code",
   "execution_count": null,
   "id": "e6a713af",
   "metadata": {},
   "outputs": [],
   "source": []
  }
 ],
 "metadata": {
  "kernelspec": {
   "display_name": "Python [conda env:metis] *",
   "language": "python",
   "name": "conda-env-metis-py"
  },
  "language_info": {
   "codemirror_mode": {
    "name": "ipython",
    "version": 3
   },
   "file_extension": ".py",
   "mimetype": "text/x-python",
   "name": "python",
   "nbconvert_exporter": "python",
   "pygments_lexer": "ipython3",
   "version": "3.8.10"
  }
 },
 "nbformat": 4,
 "nbformat_minor": 5
}
