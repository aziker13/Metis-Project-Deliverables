{
 "cells": [
  {
   "cell_type": "code",
   "execution_count": 23,
   "id": "553f9e15",
   "metadata": {},
   "outputs": [],
   "source": [
    "import pandas as pd\n",
    "import spacy\n",
    "import numpy as np\n",
    "import re\n",
    "import string\n",
    "from sklearn.decomposition import NMF\n",
    "from sklearn.feature_extraction.text import TfidfVectorizer, ENGLISH_STOP_WORDS\n",
    "from pymongo import MongoClient\n",
    "from sklearn.metrics import pairwise_distances\n",
    "from joblib import dump\n",
    "nlp = spacy.load('en_core_web_sm')"
   ]
  },
  {
   "cell_type": "code",
   "execution_count": 2,
   "id": "c51e5317",
   "metadata": {},
   "outputs": [
    {
     "data": {
      "text/plain": [
       "['admin', 'books', 'coffee_reviews', 'config', 'events', 'local', 'outings']"
      ]
     },
     "execution_count": 2,
     "metadata": {},
     "output_type": "execute_result"
    }
   ],
   "source": [
    "client = MongoClient(\"mongodb://localhost:27017\")\n",
    "client.list_database_names()"
   ]
  },
  {
   "cell_type": "code",
   "execution_count": 3,
   "id": "ec202fb6",
   "metadata": {},
   "outputs": [
    {
     "data": {
      "text/plain": [
       "['reviews_col']"
      ]
     },
     "execution_count": 3,
     "metadata": {},
     "output_type": "execute_result"
    }
   ],
   "source": [
    "reviews_mongo = client.coffee_reviews\n",
    "reviews_mongo.list_collection_names()"
   ]
  },
  {
   "cell_type": "code",
   "execution_count": 4,
   "id": "6fdd580f",
   "metadata": {},
   "outputs": [],
   "source": [
    "reviews_df = pd.DataFrame(list(reviews_mongo.reviews_col.aggregate([{'$unwind': '$reviews'}])))\n",
    "reviews_df.columns = ['ID', 'shop_name', 'reviews']"
   ]
  },
  {
   "cell_type": "code",
   "execution_count": 5,
   "id": "2afaf08d",
   "metadata": {},
   "outputs": [],
   "source": [
    "files2 = ['Lighthouse Roasters',\n",
    "          'Anchorhead Coffee',\n",
    "        'Coffeeholic House',\n",
    "        'Espresso Vivace Roasteria',\n",
    "        'Milstead',\n",
    "        'Moonshot Coffee',\n",
    "        'Moore Coffee Shop',\n",
    "        'Santo Coffee',\n",
    "        'Storyville Coffee Company',\n",
    "        'Sugar Bakery & Coffeehouse']"
   ]
  },
  {
   "cell_type": "code",
   "execution_count": 7,
   "id": "166b2710",
   "metadata": {},
   "outputs": [
    {
     "data": {
      "text/plain": [
       "array(['Lighthouse Roasters', 'Anchorhead Coffee', 'Coffeeholic House',\n",
       "       'Espresso Vivace Roasteria', 'Milstead', 'Moonshot Coffee',\n",
       "       'Moore Coffee Shop', 'Santo Coffee', 'Storyville Coffee Company',\n",
       "       'Sugar Bakery & Coffeehouse'], dtype=object)"
      ]
     },
     "execution_count": 7,
     "metadata": {},
     "output_type": "execute_result"
    }
   ],
   "source": [
    "for i in range(0,10):\n",
    "    lh = list(reviews_df.ID.unique())[i]\n",
    "    name = files2[i]\n",
    "    reviews_df.replace({lh: f'{name}'}, inplace=True)\n",
    "reviews_df.ID.unique()"
   ]
  },
  {
   "cell_type": "code",
   "execution_count": 8,
   "id": "0b942d70",
   "metadata": {},
   "outputs": [],
   "source": [
    "reviews_df.drop(columns='shop_name', inplace=True)"
   ]
  },
  {
   "cell_type": "code",
   "execution_count": 9,
   "id": "562faa98",
   "metadata": {},
   "outputs": [
    {
     "data": {
      "text/html": [
       "<div>\n",
       "<style scoped>\n",
       "    .dataframe tbody tr th:only-of-type {\n",
       "        vertical-align: middle;\n",
       "    }\n",
       "\n",
       "    .dataframe tbody tr th {\n",
       "        vertical-align: top;\n",
       "    }\n",
       "\n",
       "    .dataframe thead th {\n",
       "        text-align: right;\n",
       "    }\n",
       "</style>\n",
       "<table border=\"1\" class=\"dataframe\">\n",
       "  <thead>\n",
       "    <tr style=\"text-align: right;\">\n",
       "      <th></th>\n",
       "      <th>ID</th>\n",
       "      <th>reviews</th>\n",
       "    </tr>\n",
       "  </thead>\n",
       "  <tbody>\n",
       "    <tr>\n",
       "      <th>0</th>\n",
       "      <td>Lighthouse Roasters</td>\n",
       "      <td>this café s been around for quite some time an...</td>\n",
       "    </tr>\n",
       "    <tr>\n",
       "      <th>1</th>\n",
       "      <td>Lighthouse Roasters</td>\n",
       "      <td>these guys deserve five stars and here s why  ...</td>\n",
       "    </tr>\n",
       "    <tr>\n",
       "      <th>2</th>\n",
       "      <td>Lighthouse Roasters</td>\n",
       "      <td>lighthouse is simply the best  my roommates an...</td>\n",
       "    </tr>\n",
       "    <tr>\n",
       "      <th>3</th>\n",
       "      <td>Lighthouse Roasters</td>\n",
       "      <td>picked up a bag of original and their featured...</td>\n",
       "    </tr>\n",
       "    <tr>\n",
       "      <th>4</th>\n",
       "      <td>Lighthouse Roasters</td>\n",
       "      <td>would recommend this place  i got a latte a...</td>\n",
       "    </tr>\n",
       "  </tbody>\n",
       "</table>\n",
       "</div>"
      ],
      "text/plain": [
       "                    ID                                            reviews\n",
       "0  Lighthouse Roasters  this café s been around for quite some time an...\n",
       "1  Lighthouse Roasters  these guys deserve five stars and here s why  ...\n",
       "2  Lighthouse Roasters  lighthouse is simply the best  my roommates an...\n",
       "3  Lighthouse Roasters  picked up a bag of original and their featured...\n",
       "4  Lighthouse Roasters     would recommend this place  i got a latte a..."
      ]
     },
     "execution_count": 9,
     "metadata": {},
     "output_type": "execute_result"
    }
   ],
   "source": [
    "alphanumeric = lambda x: re.sub('\\w*\\d\\w*', ' ', x)\n",
    "punc_lower = lambda x: re.sub('[%s]' % re.escape(string.punctuation), ' ', x.lower())\n",
    "\n",
    "reviews_df['reviews'] = reviews_df.reviews.map(alphanumeric).map(punc_lower)\n",
    "reviews_df.head()"
   ]
  },
  {
   "cell_type": "code",
   "execution_count": 12,
   "id": "c47ac564",
   "metadata": {},
   "outputs": [],
   "source": [
    "docs = list(nlp.pipe(reviews_df.reviews))\n",
    "reviews_df['spacy_doc'] = docs"
   ]
  },
  {
   "cell_type": "code",
   "execution_count": 13,
   "id": "dcc02b01",
   "metadata": {},
   "outputs": [],
   "source": [
    "docs_clean = [[w.lemma_.lower() for w in doc if (not w.is_stop and not w.is_punct and not w.like_num) \\\n",
    "               or (w.lemma_=='not')] for doc in docs]\n",
    "reviews_df['docs_clean'] = docs_clean"
   ]
  },
  {
   "cell_type": "code",
   "execution_count": 14,
   "id": "7527b764",
   "metadata": {},
   "outputs": [
    {
     "data": {
      "text/plain": [
       "'café s time literally feel love go coffee   lighthouse understand craft   ve get latte   iced hot   amazing round espresso     bring dog   dog biscuit ready   '"
      ]
     },
     "execution_count": 14,
     "metadata": {},
     "output_type": "execute_result"
    }
   ],
   "source": [
    "docs_list_clean = [' '.join(doc) for doc in docs_clean]\n",
    "docs_list_clean[0]"
   ]
  },
  {
   "cell_type": "code",
   "execution_count": 16,
   "id": "1ea6ebfe",
   "metadata": {},
   "outputs": [
    {
     "data": {
      "text/plain": [
       "(6057, 1000)"
      ]
     },
     "execution_count": 16,
     "metadata": {},
     "output_type": "execute_result"
    }
   ],
   "source": [
    "stop_words = ENGLISH_STOP_WORDS.union(['coffee', 'gelato', 'good', 'great', 'like'])\n",
    "cv = TfidfVectorizer(stop_words=stop_words, max_features=1000, min_df=10, max_df = .4, ngram_range = (1,3))\n",
    "X = cv.fit_transform(docs_list_clean)\n",
    "\n",
    "reviews_df_X = pd.DataFrame(X.toarray(), columns=cv.get_feature_names())\n",
    "reviews_df_X.shape"
   ]
  },
  {
   "cell_type": "code",
   "execution_count": 17,
   "id": "eab90103",
   "metadata": {},
   "outputs": [
    {
     "name": "stderr",
     "output_type": "stream",
     "text": [
      "/home/aziker/anaconda3/envs/metis/lib/python3.8/site-packages/sklearn/decomposition/_nmf.py:312: FutureWarning: The 'init' value, when 'init=None' and n_components is less than n_samples and n_features, will be changed from 'nndsvd' to 'nndsvda' in 1.1 (renaming of 0.26).\n",
      "  warnings.warn((\"The 'init' value, when 'init=None' and \"\n"
     ]
    },
    {
     "data": {
      "text/plain": [
       "(6057, 8)"
      ]
     },
     "execution_count": 17,
     "metadata": {},
     "output_type": "execute_result"
    }
   ],
   "source": [
    "nmf_model = NMF(8)\n",
    "nmf_doc_topic = nmf_model.fit_transform(X)\n",
    "nmf_doc_topic.shape"
   ]
  },
  {
   "cell_type": "code",
   "execution_count": 18,
   "id": "ce530cb7",
   "metadata": {},
   "outputs": [],
   "source": [
    "def display_topics(model, feature_names, no_top_words, topic_names=None):\n",
    "    for ix, topic in enumerate(model.components_):\n",
    "        if not topic_names or not topic_names[ix]:\n",
    "            print(\"\\nTopic \", ix)\n",
    "        else:\n",
    "            print(\"\\nTopic: '\",topic_names[ix],\"'\")\n",
    "        print(\", \".join([feature_names[i]\n",
    "                        for i in topic.argsort()[:-no_top_words - 1:-1]]))"
   ]
  },
  {
   "cell_type": "code",
   "execution_count": 19,
   "id": "a033a028",
   "metadata": {},
   "outputs": [
    {
     "name": "stdout",
     "output_type": "stream",
     "text": [
      "\n",
      "Topic  0\n",
      "espresso, time, barista, ve, drink, cup, work, bean, come, seattle\n",
      "\n",
      "Topic  1\n",
      "latte, art, latte art, cute, waffle, nutella, mocha, moore, shop, come\n",
      "\n",
      "Topic  2\n",
      "ube, coffeeholic, drink, dream, coffeeholic dream, vietnamese, sweet, order, try, drizzle\n",
      "\n",
      "Topic  3\n",
      "pike, market, pike place, place market, pike place market, view, storyville, floor, pike market, away\n",
      "\n",
      "Topic  4\n",
      "brew, cold, cold brew, quaffle, nitro, honey, brew latte, cold brew latte, biscuit, pour\n",
      "\n",
      "Topic  5\n",
      "love, friendly, staff, shop, service, amazing, seattle, atmosphere, recommend, favorite\n",
      "\n",
      "Topic  6\n",
      "free, cake, chocolate, mug, free mug, chocolate cake, email, slice, sign, mocha\n",
      "\n",
      "Topic  7\n",
      "milk, latte, almond, almond milk, matcha, pistachio, croissant, milk latte, cinnamon, taste\n"
     ]
    }
   ],
   "source": [
    "display_topics(nmf_model, cv.get_feature_names(), 10)"
   ]
  },
  {
   "cell_type": "code",
   "execution_count": 20,
   "id": "55b1b703",
   "metadata": {},
   "outputs": [],
   "source": [
    "new_df = pd.DataFrame(nmf_doc_topic)\n",
    "new_df.columns = ['topic_0', 'topic_1', 'topic_2', 'topic_3', 'topic_4', 'topic_5', 'topic_6', 'topic_7']"
   ]
  },
  {
   "cell_type": "code",
   "execution_count": 21,
   "id": "a4ca7ffa",
   "metadata": {},
   "outputs": [
    {
     "data": {
      "text/html": [
       "<div>\n",
       "<style scoped>\n",
       "    .dataframe tbody tr th:only-of-type {\n",
       "        vertical-align: middle;\n",
       "    }\n",
       "\n",
       "    .dataframe tbody tr th {\n",
       "        vertical-align: top;\n",
       "    }\n",
       "\n",
       "    .dataframe thead th {\n",
       "        text-align: right;\n",
       "    }\n",
       "</style>\n",
       "<table border=\"1\" class=\"dataframe\">\n",
       "  <thead>\n",
       "    <tr style=\"text-align: right;\">\n",
       "      <th></th>\n",
       "      <th>topic_0</th>\n",
       "      <th>topic_1</th>\n",
       "      <th>topic_2</th>\n",
       "      <th>topic_3</th>\n",
       "      <th>topic_4</th>\n",
       "      <th>topic_5</th>\n",
       "      <th>topic_6</th>\n",
       "      <th>topic_7</th>\n",
       "      <th>name</th>\n",
       "      <th>review</th>\n",
       "    </tr>\n",
       "  </thead>\n",
       "  <tbody>\n",
       "    <tr>\n",
       "      <th>0</th>\n",
       "      <td>0.031732</td>\n",
       "      <td>0.009188</td>\n",
       "      <td>0.000127</td>\n",
       "      <td>0.0</td>\n",
       "      <td>0.001266</td>\n",
       "      <td>0.020977</td>\n",
       "      <td>0.003625</td>\n",
       "      <td>0.015078</td>\n",
       "      <td>Lighthouse Roasters</td>\n",
       "      <td>this café s been around for quite some time an...</td>\n",
       "    </tr>\n",
       "    <tr>\n",
       "      <th>1</th>\n",
       "      <td>0.071553</td>\n",
       "      <td>0.000000</td>\n",
       "      <td>0.010768</td>\n",
       "      <td>0.0</td>\n",
       "      <td>0.000000</td>\n",
       "      <td>0.017008</td>\n",
       "      <td>0.003369</td>\n",
       "      <td>0.000795</td>\n",
       "      <td>Lighthouse Roasters</td>\n",
       "      <td>these guys deserve five stars and here s why  ...</td>\n",
       "    </tr>\n",
       "    <tr>\n",
       "      <th>2</th>\n",
       "      <td>0.024035</td>\n",
       "      <td>0.007552</td>\n",
       "      <td>0.000000</td>\n",
       "      <td>0.0</td>\n",
       "      <td>0.000000</td>\n",
       "      <td>0.036384</td>\n",
       "      <td>0.003096</td>\n",
       "      <td>0.000000</td>\n",
       "      <td>Lighthouse Roasters</td>\n",
       "      <td>lighthouse is simply the best  my roommates an...</td>\n",
       "    </tr>\n",
       "    <tr>\n",
       "      <th>3</th>\n",
       "      <td>0.058073</td>\n",
       "      <td>0.000000</td>\n",
       "      <td>0.005109</td>\n",
       "      <td>0.0</td>\n",
       "      <td>0.003933</td>\n",
       "      <td>0.021679</td>\n",
       "      <td>0.000000</td>\n",
       "      <td>0.000000</td>\n",
       "      <td>Lighthouse Roasters</td>\n",
       "      <td>picked up a bag of original and their featured...</td>\n",
       "    </tr>\n",
       "    <tr>\n",
       "      <th>4</th>\n",
       "      <td>0.000000</td>\n",
       "      <td>0.088421</td>\n",
       "      <td>0.000000</td>\n",
       "      <td>0.0</td>\n",
       "      <td>0.000409</td>\n",
       "      <td>0.087862</td>\n",
       "      <td>0.000000</td>\n",
       "      <td>0.017836</td>\n",
       "      <td>Lighthouse Roasters</td>\n",
       "      <td>would recommend this place  i got a latte a...</td>\n",
       "    </tr>\n",
       "  </tbody>\n",
       "</table>\n",
       "</div>"
      ],
      "text/plain": [
       "    topic_0   topic_1   topic_2  topic_3   topic_4   topic_5   topic_6  \\\n",
       "0  0.031732  0.009188  0.000127      0.0  0.001266  0.020977  0.003625   \n",
       "1  0.071553  0.000000  0.010768      0.0  0.000000  0.017008  0.003369   \n",
       "2  0.024035  0.007552  0.000000      0.0  0.000000  0.036384  0.003096   \n",
       "3  0.058073  0.000000  0.005109      0.0  0.003933  0.021679  0.000000   \n",
       "4  0.000000  0.088421  0.000000      0.0  0.000409  0.087862  0.000000   \n",
       "\n",
       "    topic_7                 name  \\\n",
       "0  0.015078  Lighthouse Roasters   \n",
       "1  0.000795  Lighthouse Roasters   \n",
       "2  0.000000  Lighthouse Roasters   \n",
       "3  0.000000  Lighthouse Roasters   \n",
       "4  0.017836  Lighthouse Roasters   \n",
       "\n",
       "                                              review  \n",
       "0  this café s been around for quite some time an...  \n",
       "1  these guys deserve five stars and here s why  ...  \n",
       "2  lighthouse is simply the best  my roommates an...  \n",
       "3  picked up a bag of original and their featured...  \n",
       "4     would recommend this place  i got a latte a...  "
      ]
     },
     "execution_count": 21,
     "metadata": {},
     "output_type": "execute_result"
    }
   ],
   "source": [
    "new_df[['name', 'review']] = reviews_df[['ID', 'reviews']]\n",
    "new_df.head()"
   ]
  },
  {
   "cell_type": "code",
   "execution_count": 22,
   "id": "428d9483",
   "metadata": {},
   "outputs": [
    {
     "data": {
      "text/html": [
       "<div>\n",
       "<style scoped>\n",
       "    .dataframe tbody tr th:only-of-type {\n",
       "        vertical-align: middle;\n",
       "    }\n",
       "\n",
       "    .dataframe tbody tr th {\n",
       "        vertical-align: top;\n",
       "    }\n",
       "\n",
       "    .dataframe thead th {\n",
       "        text-align: right;\n",
       "    }\n",
       "</style>\n",
       "<table border=\"1\" class=\"dataframe\">\n",
       "  <thead>\n",
       "    <tr style=\"text-align: right;\">\n",
       "      <th></th>\n",
       "      <th>topic_0</th>\n",
       "      <th>topic_1</th>\n",
       "      <th>topic_2</th>\n",
       "      <th>topic_3</th>\n",
       "      <th>topic_4</th>\n",
       "      <th>topic_5</th>\n",
       "      <th>topic_6</th>\n",
       "      <th>topic_7</th>\n",
       "    </tr>\n",
       "    <tr>\n",
       "      <th>name</th>\n",
       "      <th></th>\n",
       "      <th></th>\n",
       "      <th></th>\n",
       "      <th></th>\n",
       "      <th></th>\n",
       "      <th></th>\n",
       "      <th></th>\n",
       "      <th></th>\n",
       "    </tr>\n",
       "  </thead>\n",
       "  <tbody>\n",
       "    <tr>\n",
       "      <th>Anchorhead Coffee</th>\n",
       "      <td>0.021478</td>\n",
       "      <td>0.011447</td>\n",
       "      <td>0.006148</td>\n",
       "      <td>0.003323</td>\n",
       "      <td>0.038475</td>\n",
       "      <td>0.029756</td>\n",
       "      <td>0.006121</td>\n",
       "      <td>0.039415</td>\n",
       "    </tr>\n",
       "    <tr>\n",
       "      <th>Coffeeholic House</th>\n",
       "      <td>0.015423</td>\n",
       "      <td>0.007661</td>\n",
       "      <td>0.111339</td>\n",
       "      <td>0.001149</td>\n",
       "      <td>0.002082</td>\n",
       "      <td>0.024691</td>\n",
       "      <td>0.002943</td>\n",
       "      <td>0.009170</td>\n",
       "    </tr>\n",
       "    <tr>\n",
       "      <th>Espresso Vivace Roasteria</th>\n",
       "      <td>0.042371</td>\n",
       "      <td>0.011452</td>\n",
       "      <td>0.005088</td>\n",
       "      <td>0.001700</td>\n",
       "      <td>0.002634</td>\n",
       "      <td>0.019173</td>\n",
       "      <td>0.005391</td>\n",
       "      <td>0.010957</td>\n",
       "    </tr>\n",
       "    <tr>\n",
       "      <th>Lighthouse Roasters</th>\n",
       "      <td>0.042727</td>\n",
       "      <td>0.007023</td>\n",
       "      <td>0.003370</td>\n",
       "      <td>0.001586</td>\n",
       "      <td>0.004203</td>\n",
       "      <td>0.022793</td>\n",
       "      <td>0.003491</td>\n",
       "      <td>0.005139</td>\n",
       "    </tr>\n",
       "    <tr>\n",
       "      <th>Milstead</th>\n",
       "      <td>0.034366</td>\n",
       "      <td>0.009314</td>\n",
       "      <td>0.003101</td>\n",
       "      <td>0.003191</td>\n",
       "      <td>0.010293</td>\n",
       "      <td>0.033714</td>\n",
       "      <td>0.008532</td>\n",
       "      <td>0.010907</td>\n",
       "    </tr>\n",
       "  </tbody>\n",
       "</table>\n",
       "</div>"
      ],
      "text/plain": [
       "                            topic_0   topic_1   topic_2   topic_3   topic_4  \\\n",
       "name                                                                          \n",
       "Anchorhead Coffee          0.021478  0.011447  0.006148  0.003323  0.038475   \n",
       "Coffeeholic House          0.015423  0.007661  0.111339  0.001149  0.002082   \n",
       "Espresso Vivace Roasteria  0.042371  0.011452  0.005088  0.001700  0.002634   \n",
       "Lighthouse Roasters        0.042727  0.007023  0.003370  0.001586  0.004203   \n",
       "Milstead                   0.034366  0.009314  0.003101  0.003191  0.010293   \n",
       "\n",
       "                            topic_5   topic_6   topic_7  \n",
       "name                                                     \n",
       "Anchorhead Coffee          0.029756  0.006121  0.039415  \n",
       "Coffeeholic House          0.024691  0.002943  0.009170  \n",
       "Espresso Vivace Roasteria  0.019173  0.005391  0.010957  \n",
       "Lighthouse Roasters        0.022793  0.003491  0.005139  \n",
       "Milstead                   0.033714  0.008532  0.010907  "
      ]
     },
     "execution_count": 22,
     "metadata": {},
     "output_type": "execute_result"
    }
   ],
   "source": [
    "grouped_df = new_df.groupby(['name']).mean()\n",
    "grouped_df.head()"
   ]
  },
  {
   "cell_type": "code",
   "execution_count": 32,
   "id": "a4f70a84",
   "metadata": {},
   "outputs": [],
   "source": [
    "def get_coffee_recs(string_lst,n_recs=3, df=grouped_df,vect=cv,model=nmf_model):\n",
    "    vt = cv.transform(string_lst)\n",
    "    tt = model.transform(vt)\n",
    "    top_n = pairwise_distances(tt,df).argsort().tolist()[0][:n_recs]\n",
    "    recs = []\n",
    "    for i in top_n:\n",
    "        recs.append((df.iloc[i].name))\n",
    "    return recs"
   ]
  },
  {
   "cell_type": "code",
   "execution_count": 34,
   "id": "2325a1ef",
   "metadata": {},
   "outputs": [
    {
     "data": {
      "text/plain": [
       "['Santo Coffee']"
      ]
     },
     "execution_count": 34,
     "metadata": {},
     "output_type": "execute_result"
    }
   ],
   "source": [
    "keyword = ['friendly']\n",
    "get_coffee_recs(keyword,n_recs=1)"
   ]
  },
  {
   "cell_type": "markdown",
   "id": "48bff1c3",
   "metadata": {},
   "source": [
    "It works! Now to save the custom dataframe, vectorizer, and model to be used in my web app "
   ]
  },
  {
   "cell_type": "code",
   "execution_count": 38,
   "id": "e45f70b7",
   "metadata": {},
   "outputs": [],
   "source": [
    "grouped_df.to_csv('SeaCoffeeRecModel_df.csv')"
   ]
  },
  {
   "cell_type": "code",
   "execution_count": 37,
   "id": "c6a64a7b",
   "metadata": {},
   "outputs": [
    {
     "data": {
      "text/plain": [
       "['SeaCoffeeRecModel_cv.joblib']"
      ]
     },
     "execution_count": 37,
     "metadata": {},
     "output_type": "execute_result"
    }
   ],
   "source": [
    "dump(nmf_model, 'SeaCoffeeRecModel_nmf.joblib')\n",
    "dump(cv, 'SeaCoffeeRecModel_cv.joblib')"
   ]
  },
  {
   "cell_type": "code",
   "execution_count": null,
   "id": "b6949e62",
   "metadata": {},
   "outputs": [],
   "source": []
  }
 ],
 "metadata": {
  "kernelspec": {
   "display_name": "Python [conda env:metis] *",
   "language": "python",
   "name": "conda-env-metis-py"
  },
  "language_info": {
   "codemirror_mode": {
    "name": "ipython",
    "version": 3
   },
   "file_extension": ".py",
   "mimetype": "text/x-python",
   "name": "python",
   "nbconvert_exporter": "python",
   "pygments_lexer": "ipython3",
   "version": "3.8.10"
  }
 },
 "nbformat": 4,
 "nbformat_minor": 5
}
