{
 "cells": [
  {
   "cell_type": "code",
   "execution_count": 52,
   "id": "f591db18",
   "metadata": {},
   "outputs": [],
   "source": [
    "import nltk\n",
    "import pandas as pd\n",
    "import spacy"
   ]
  },
  {
   "cell_type": "code",
   "execution_count": null,
   "id": "4a5273ec",
   "metadata": {},
   "outputs": [],
   "source": []
  },
  {
   "cell_type": "code",
   "execution_count": 4,
   "id": "2b67ef81",
   "metadata": {},
   "outputs": [
    {
     "name": "stdout",
     "output_type": "stream",
     "text": [
      "showing info https://raw.githubusercontent.com/nltk/nltk_data/gh-pages/index.xml\n"
     ]
    },
    {
     "data": {
      "text/plain": [
       "True"
      ]
     },
     "execution_count": 4,
     "metadata": {},
     "output_type": "execute_result"
    }
   ],
   "source": [
    "nltk.download()"
   ]
  },
  {
   "cell_type": "code",
   "execution_count": 53,
   "id": "9f3c3154",
   "metadata": {},
   "outputs": [],
   "source": [
    "from textblob import TextBlob"
   ]
  },
  {
   "cell_type": "code",
   "execution_count": 54,
   "id": "8e323566",
   "metadata": {},
   "outputs": [],
   "source": [
    "nlp = spacy.load('en_core_web_sm')\n",
    "df = pd.read_csv('raw_yelp_review_data.csv')"
   ]
  },
  {
   "cell_type": "code",
   "execution_count": 55,
   "id": "3a3205a2",
   "metadata": {},
   "outputs": [
    {
     "data": {
      "text/html": [
       "<div>\n",
       "<style scoped>\n",
       "    .dataframe tbody tr th:only-of-type {\n",
       "        vertical-align: middle;\n",
       "    }\n",
       "\n",
       "    .dataframe tbody tr th {\n",
       "        vertical-align: top;\n",
       "    }\n",
       "\n",
       "    .dataframe thead th {\n",
       "        text-align: right;\n",
       "    }\n",
       "</style>\n",
       "<table border=\"1\" class=\"dataframe\">\n",
       "  <thead>\n",
       "    <tr style=\"text-align: right;\">\n",
       "      <th></th>\n",
       "      <th>name</th>\n",
       "      <th>review</th>\n",
       "      <th>rating</th>\n",
       "    </tr>\n",
       "  </thead>\n",
       "  <tbody>\n",
       "    <tr>\n",
       "      <th>0</th>\n",
       "      <td>The Factory - Cafe With a Soul</td>\n",
       "      <td>11/25/2016 1 check-in Love love loved the atm...</td>\n",
       "      <td>5.0 star rating</td>\n",
       "    </tr>\n",
       "    <tr>\n",
       "      <th>1</th>\n",
       "      <td>The Factory - Cafe With a Soul</td>\n",
       "      <td>12/2/2016 Listed in Date Night: Austin, Ambia...</td>\n",
       "      <td>4.0 star rating</td>\n",
       "    </tr>\n",
       "    <tr>\n",
       "      <th>2</th>\n",
       "      <td>The Factory - Cafe With a Soul</td>\n",
       "      <td>11/30/2016 1 check-in Listed in Brunch Spots ...</td>\n",
       "      <td>4.0 star rating</td>\n",
       "    </tr>\n",
       "    <tr>\n",
       "      <th>3</th>\n",
       "      <td>The Factory - Cafe With a Soul</td>\n",
       "      <td>11/25/2016 Very cool decor! Good drinks Nice ...</td>\n",
       "      <td>2.0 star rating</td>\n",
       "    </tr>\n",
       "    <tr>\n",
       "      <th>4</th>\n",
       "      <td>The Factory - Cafe With a Soul</td>\n",
       "      <td>12/3/2016 1 check-in They are located within ...</td>\n",
       "      <td>4.0 star rating</td>\n",
       "    </tr>\n",
       "  </tbody>\n",
       "</table>\n",
       "</div>"
      ],
      "text/plain": [
       "                              name  \\\n",
       "0  The Factory - Cafe With a Soul    \n",
       "1  The Factory - Cafe With a Soul    \n",
       "2  The Factory - Cafe With a Soul    \n",
       "3  The Factory - Cafe With a Soul    \n",
       "4  The Factory - Cafe With a Soul    \n",
       "\n",
       "                                              review             rating  \n",
       "0   11/25/2016 1 check-in Love love loved the atm...   5.0 star rating   \n",
       "1   12/2/2016 Listed in Date Night: Austin, Ambia...   4.0 star rating   \n",
       "2   11/30/2016 1 check-in Listed in Brunch Spots ...   4.0 star rating   \n",
       "3   11/25/2016 Very cool decor! Good drinks Nice ...   2.0 star rating   \n",
       "4   12/3/2016 1 check-in They are located within ...   4.0 star rating   "
      ]
     },
     "execution_count": 55,
     "metadata": {},
     "output_type": "execute_result"
    }
   ],
   "source": [
    "df.columns = ['name', 'review', 'rating']\n",
    "df.head()"
   ]
  },
  {
   "cell_type": "code",
   "execution_count": 56,
   "id": "cdc8fe46",
   "metadata": {},
   "outputs": [
    {
     "name": "stdout",
     "output_type": "stream",
     "text": [
      "7616 [5, 4, 4]\n"
     ]
    }
   ],
   "source": [
    "rating = []\n",
    "for s in df['rating'].tolist():\n",
    "    inter = s.split()\n",
    "    rating.append(int(float(inter[0])))\n",
    "print(len(rating), rating[:3])"
   ]
  },
  {
   "cell_type": "code",
   "execution_count": 57,
   "id": "136ed6c4",
   "metadata": {},
   "outputs": [
    {
     "data": {
      "text/html": [
       "<div>\n",
       "<style scoped>\n",
       "    .dataframe tbody tr th:only-of-type {\n",
       "        vertical-align: middle;\n",
       "    }\n",
       "\n",
       "    .dataframe tbody tr th {\n",
       "        vertical-align: top;\n",
       "    }\n",
       "\n",
       "    .dataframe thead th {\n",
       "        text-align: right;\n",
       "    }\n",
       "</style>\n",
       "<table border=\"1\" class=\"dataframe\">\n",
       "  <thead>\n",
       "    <tr style=\"text-align: right;\">\n",
       "      <th></th>\n",
       "      <th>name</th>\n",
       "      <th>review</th>\n",
       "      <th>rating</th>\n",
       "    </tr>\n",
       "  </thead>\n",
       "  <tbody>\n",
       "    <tr>\n",
       "      <th>0</th>\n",
       "      <td>The Factory - Cafe With a Soul</td>\n",
       "      <td>11/25/2016 1 check-in Love love loved the atm...</td>\n",
       "      <td>5</td>\n",
       "    </tr>\n",
       "    <tr>\n",
       "      <th>1</th>\n",
       "      <td>The Factory - Cafe With a Soul</td>\n",
       "      <td>12/2/2016 Listed in Date Night: Austin, Ambia...</td>\n",
       "      <td>4</td>\n",
       "    </tr>\n",
       "    <tr>\n",
       "      <th>2</th>\n",
       "      <td>The Factory - Cafe With a Soul</td>\n",
       "      <td>11/30/2016 1 check-in Listed in Brunch Spots ...</td>\n",
       "      <td>4</td>\n",
       "    </tr>\n",
       "    <tr>\n",
       "      <th>3</th>\n",
       "      <td>The Factory - Cafe With a Soul</td>\n",
       "      <td>11/25/2016 Very cool decor! Good drinks Nice ...</td>\n",
       "      <td>2</td>\n",
       "    </tr>\n",
       "    <tr>\n",
       "      <th>4</th>\n",
       "      <td>The Factory - Cafe With a Soul</td>\n",
       "      <td>12/3/2016 1 check-in They are located within ...</td>\n",
       "      <td>4</td>\n",
       "    </tr>\n",
       "  </tbody>\n",
       "</table>\n",
       "</div>"
      ],
      "text/plain": [
       "                              name  \\\n",
       "0  The Factory - Cafe With a Soul    \n",
       "1  The Factory - Cafe With a Soul    \n",
       "2  The Factory - Cafe With a Soul    \n",
       "3  The Factory - Cafe With a Soul    \n",
       "4  The Factory - Cafe With a Soul    \n",
       "\n",
       "                                              review  rating  \n",
       "0   11/25/2016 1 check-in Love love loved the atm...       5  \n",
       "1   12/2/2016 Listed in Date Night: Austin, Ambia...       4  \n",
       "2   11/30/2016 1 check-in Listed in Brunch Spots ...       4  \n",
       "3   11/25/2016 Very cool decor! Good drinks Nice ...       2  \n",
       "4   12/3/2016 1 check-in They are located within ...       4  "
      ]
     },
     "execution_count": 57,
     "metadata": {},
     "output_type": "execute_result"
    }
   ],
   "source": [
    "df['rating'] = rating\n",
    "df.head()"
   ]
  },
  {
   "cell_type": "code",
   "execution_count": 58,
   "id": "b0837e9f",
   "metadata": {},
   "outputs": [
    {
     "data": {
      "text/plain": [
       "' 11/25/2016 1 check-in Love love loved the atmosphere! Every corner of the coffee shop had its own style, and there were swings!!! I ordered the matcha latte, and it was muy fantastico! Ordering and getting my drink were pretty streamlined. I ordered on an iPad, which included all beverage selections that ranged from coffee to wine, desired level of sweetness, and a checkout system. I got my latte within minutes!  I was hoping for a typical heart or feather on my latte, but found myself listing out all the possibilities of what the art may be. Any ideas? '"
      ]
     },
     "execution_count": 58,
     "metadata": {},
     "output_type": "execute_result"
    }
   ],
   "source": [
    "df['review'][0]"
   ]
  },
  {
   "cell_type": "code",
   "execution_count": 59,
   "id": "551cc5ec",
   "metadata": {},
   "outputs": [
    {
     "data": {
      "text/html": [
       "<div>\n",
       "<style scoped>\n",
       "    .dataframe tbody tr th:only-of-type {\n",
       "        vertical-align: middle;\n",
       "    }\n",
       "\n",
       "    .dataframe tbody tr th {\n",
       "        vertical-align: top;\n",
       "    }\n",
       "\n",
       "    .dataframe thead th {\n",
       "        text-align: right;\n",
       "    }\n",
       "</style>\n",
       "<table border=\"1\" class=\"dataframe\">\n",
       "  <thead>\n",
       "    <tr style=\"text-align: right;\">\n",
       "      <th></th>\n",
       "      <th>name</th>\n",
       "      <th>review</th>\n",
       "      <th>rating</th>\n",
       "    </tr>\n",
       "  </thead>\n",
       "  <tbody>\n",
       "    <tr>\n",
       "      <th>0</th>\n",
       "      <td>The Factory - Cafe With a Soul</td>\n",
       "      <td>check in love love loved the atmosphe...</td>\n",
       "      <td>5</td>\n",
       "    </tr>\n",
       "    <tr>\n",
       "      <th>1</th>\n",
       "      <td>The Factory - Cafe With a Soul</td>\n",
       "      <td>listed in date night  austin  ambiance ...</td>\n",
       "      <td>4</td>\n",
       "    </tr>\n",
       "    <tr>\n",
       "      <th>2</th>\n",
       "      <td>The Factory - Cafe With a Soul</td>\n",
       "      <td>check in listed in brunch spots i lov...</td>\n",
       "      <td>4</td>\n",
       "    </tr>\n",
       "    <tr>\n",
       "      <th>3</th>\n",
       "      <td>The Factory - Cafe With a Soul</td>\n",
       "      <td>very cool decor  good drinks nice seati...</td>\n",
       "      <td>2</td>\n",
       "    </tr>\n",
       "    <tr>\n",
       "      <th>4</th>\n",
       "      <td>The Factory - Cafe With a Soul</td>\n",
       "      <td>check in they are located within the ...</td>\n",
       "      <td>4</td>\n",
       "    </tr>\n",
       "  </tbody>\n",
       "</table>\n",
       "</div>"
      ],
      "text/plain": [
       "                              name  \\\n",
       "0  The Factory - Cafe With a Soul    \n",
       "1  The Factory - Cafe With a Soul    \n",
       "2  The Factory - Cafe With a Soul    \n",
       "3  The Factory - Cafe With a Soul    \n",
       "4  The Factory - Cafe With a Soul    \n",
       "\n",
       "                                              review  rating  \n",
       "0           check in love love loved the atmosphe...       5  \n",
       "1         listed in date night  austin  ambiance ...       4  \n",
       "2           check in listed in brunch spots i lov...       4  \n",
       "3         very cool decor  good drinks nice seati...       2  \n",
       "4           check in they are located within the ...       4  "
      ]
     },
     "execution_count": 59,
     "metadata": {},
     "output_type": "execute_result"
    }
   ],
   "source": [
    "import re\n",
    "import string\n",
    "\n",
    "alphanumeric = lambda x: re.sub('\\w*\\d\\w*', ' ', x)\n",
    "punc_lower = lambda x: re.sub('[%s]' % re.escape(string.punctuation), ' ', x.lower())\n",
    "\n",
    "df['review'] = df.review.map(alphanumeric).map(punc_lower)\n",
    "df.head()"
   ]
  },
  {
   "cell_type": "code",
   "execution_count": 60,
   "id": "c1bf0d9a",
   "metadata": {},
   "outputs": [],
   "source": [
    "docs = list(nlp.pipe(df.review))\n",
    "df['spacy_doc'] = docs"
   ]
  },
  {
   "cell_type": "code",
   "execution_count": 61,
   "id": "7a895c53",
   "metadata": {},
   "outputs": [],
   "source": [
    "docs_clean = [[w.lemma_.lower() for w in doc if (not w.is_stop and not w.is_punct and not w.like_num) \\\n",
    "               or (w.lemma_=='not')] for doc in docs]\n",
    "df['docs_clean'] = docs_clean"
   ]
  },
  {
   "cell_type": "code",
   "execution_count": 62,
   "id": "7003545a",
   "metadata": {},
   "outputs": [
    {
     "data": {
      "text/plain": [
       "'          check love love love atmosphere   corner coffee shop style   swing     order matcha latte   muy fantastico   order get drink pretty streamlined   order ipad   include beverage selection range coffee wine   desire level sweetness   checkout system   get latte minute    hope typical heart feather latte   find list possibility art   idea  '"
      ]
     },
     "execution_count": 62,
     "metadata": {},
     "output_type": "execute_result"
    }
   ],
   "source": [
    "docs_list_clean = [' '.join(doc) for doc in docs_clean]\n",
    "docs_list_clean[0]"
   ]
  },
  {
   "cell_type": "code",
   "execution_count": 63,
   "id": "069a2a06",
   "metadata": {},
   "outputs": [
    {
     "data": {
      "text/html": [
       "<div>\n",
       "<style scoped>\n",
       "    .dataframe tbody tr th:only-of-type {\n",
       "        vertical-align: middle;\n",
       "    }\n",
       "\n",
       "    .dataframe tbody tr th {\n",
       "        vertical-align: top;\n",
       "    }\n",
       "\n",
       "    .dataframe thead th {\n",
       "        text-align: right;\n",
       "    }\n",
       "</style>\n",
       "<table border=\"1\" class=\"dataframe\">\n",
       "  <thead>\n",
       "    <tr style=\"text-align: right;\">\n",
       "      <th></th>\n",
       "      <th>name</th>\n",
       "      <th>review</th>\n",
       "      <th>rating</th>\n",
       "      <th>spacy_doc</th>\n",
       "      <th>docs_clean</th>\n",
       "    </tr>\n",
       "  </thead>\n",
       "  <tbody>\n",
       "    <tr>\n",
       "      <th>0</th>\n",
       "      <td>The Factory - Cafe With a Soul</td>\n",
       "      <td>check in love love loved the atmosphe...</td>\n",
       "      <td>5</td>\n",
       "      <td>(         , check, in, love, love, loved, the,...</td>\n",
       "      <td>[         , check, love, love, love, atmospher...</td>\n",
       "    </tr>\n",
       "    <tr>\n",
       "      <th>1</th>\n",
       "      <td>The Factory - Cafe With a Soul</td>\n",
       "      <td>listed in date night  austin  ambiance ...</td>\n",
       "      <td>4</td>\n",
       "      <td>(       , listed, in, date, night,  , austin, ...</td>\n",
       "      <td>[       , list, date, night,  , austin,  , amb...</td>\n",
       "    </tr>\n",
       "    <tr>\n",
       "      <th>2</th>\n",
       "      <td>The Factory - Cafe With a Soul</td>\n",
       "      <td>check in listed in brunch spots i lov...</td>\n",
       "      <td>4</td>\n",
       "      <td>(         , check, in, listed, in, brunch, spo...</td>\n",
       "      <td>[         , check, list, brunch, spot, love, e...</td>\n",
       "    </tr>\n",
       "    <tr>\n",
       "      <th>3</th>\n",
       "      <td>The Factory - Cafe With a Soul</td>\n",
       "      <td>very cool decor  good drinks nice seati...</td>\n",
       "      <td>2</td>\n",
       "      <td>(       , very, cool, decor,  , good, drinks, ...</td>\n",
       "      <td>[       , cool, decor,  , good, drink, nice, s...</td>\n",
       "    </tr>\n",
       "    <tr>\n",
       "      <th>4</th>\n",
       "      <td>The Factory - Cafe With a Soul</td>\n",
       "      <td>check in they are located within the ...</td>\n",
       "      <td>4</td>\n",
       "      <td>(         , check, in, they, are, located, wit...</td>\n",
       "      <td>[         , check, locate, northcross, mall, s...</td>\n",
       "    </tr>\n",
       "  </tbody>\n",
       "</table>\n",
       "</div>"
      ],
      "text/plain": [
       "                              name  \\\n",
       "0  The Factory - Cafe With a Soul    \n",
       "1  The Factory - Cafe With a Soul    \n",
       "2  The Factory - Cafe With a Soul    \n",
       "3  The Factory - Cafe With a Soul    \n",
       "4  The Factory - Cafe With a Soul    \n",
       "\n",
       "                                              review  rating  \\\n",
       "0           check in love love loved the atmosphe...       5   \n",
       "1         listed in date night  austin  ambiance ...       4   \n",
       "2           check in listed in brunch spots i lov...       4   \n",
       "3         very cool decor  good drinks nice seati...       2   \n",
       "4           check in they are located within the ...       4   \n",
       "\n",
       "                                           spacy_doc  \\\n",
       "0  (         , check, in, love, love, loved, the,...   \n",
       "1  (       , listed, in, date, night,  , austin, ...   \n",
       "2  (         , check, in, listed, in, brunch, spo...   \n",
       "3  (       , very, cool, decor,  , good, drinks, ...   \n",
       "4  (         , check, in, they, are, located, wit...   \n",
       "\n",
       "                                          docs_clean  \n",
       "0  [         , check, love, love, love, atmospher...  \n",
       "1  [       , list, date, night,  , austin,  , amb...  \n",
       "2  [         , check, list, brunch, spot, love, e...  \n",
       "3  [       , cool, decor,  , good, drink, nice, s...  \n",
       "4  [         , check, locate, northcross, mall, s...  "
      ]
     },
     "execution_count": 63,
     "metadata": {},
     "output_type": "execute_result"
    }
   ],
   "source": [
    "df.head()"
   ]
  },
  {
   "cell_type": "code",
   "execution_count": 64,
   "id": "ecc5c0f3",
   "metadata": {},
   "outputs": [
    {
     "data": {
      "text/plain": [
       "(7616, 12983)"
      ]
     },
     "execution_count": 64,
     "metadata": {},
     "output_type": "execute_result"
    }
   ],
   "source": [
    "from sklearn.feature_extraction.text import CountVectorizer, TfidfVectorizer\n",
    "cv = TfidfVectorizer(stop_words='english')\n",
    "X = cv.fit_transform(docs_list_clean)\n",
    "\n",
    "df_X = pd.DataFrame(X.toarray(), columns=cv.get_feature_names())\n",
    "df_X.shape"
   ]
  },
  {
   "cell_type": "code",
   "execution_count": 65,
   "id": "7e82af7e",
   "metadata": {},
   "outputs": [
    {
     "data": {
      "text/plain": [
       "array([0.00407378, 0.00683991, 0.0057489 , 0.00551294, 0.00499191])"
      ]
     },
     "execution_count": 65,
     "metadata": {},
     "output_type": "execute_result"
    }
   ],
   "source": [
    "from sklearn.decomposition import TruncatedSVD, NMF\n",
    "\n",
    "num_topics = 5\n",
    "topics = TruncatedSVD(num_topics)\n",
    "doc_topic = topics.fit_transform(X)\n",
    "topics.explained_variance_ratio_"
   ]
  },
  {
   "cell_type": "code",
   "execution_count": 66,
   "id": "a8444efd",
   "metadata": {},
   "outputs": [],
   "source": [
    "def display_topics(model, feature_names, no_top_words, topic_names=None):\n",
    "    for ix, topic in enumerate(model.components_):\n",
    "        if not topic_names or not topic_names[ix]:\n",
    "            print(\"\\nTopic \", ix)\n",
    "        else:\n",
    "            print(\"\\nTopic: '\",topic_names[ix],\"'\")\n",
    "        print(\", \".join([feature_names[i]\n",
    "                        for i in topic.argsort()[:-no_top_words - 1:-1]]))"
   ]
  },
  {
   "cell_type": "code",
   "execution_count": 67,
   "id": "5820a052",
   "metadata": {},
   "outputs": [
    {
     "name": "stdout",
     "output_type": "stream",
     "text": [
      "\n",
      "Topic  0\n",
      "coffee, place, good, great, check, like, love, shop, come, drink\n",
      "\n",
      "Topic  1\n",
      "gelato, flavor, cream, try, chocolate, tea, sweet, ice, puff, order\n",
      "\n",
      "Topic  2\n",
      "great, gelato, breakfast, place, staff, friendly, food, taco, love, awesome\n",
      "\n",
      "Topic  3\n",
      "coffee, gelato, shop, flavor, austin, cup, ice, favorite, owner, cream\n",
      "\n",
      "Topic  4\n",
      "breakfast, taco, latte, coffee, moon, delicious, milk, morning, egg, order\n"
     ]
    }
   ],
   "source": [
    "display_topics(topics, cv.get_feature_names(), 10)"
   ]
  },
  {
   "cell_type": "markdown",
   "id": "a059093f",
   "metadata": {},
   "source": [
    "##### Not enough distinction across topics, will need to go back and adjust preprocessing"
   ]
  },
  {
   "cell_type": "code",
   "execution_count": 17,
   "id": "951aff90",
   "metadata": {},
   "outputs": [],
   "source": [
    "from nltk.util import ngrams\n",
    "twograms = list(ngrams(docs_list_clean,2)) "
   ]
  },
  {
   "cell_type": "code",
   "execution_count": null,
   "id": "1c0e3735",
   "metadata": {},
   "outputs": [],
   "source": []
  },
  {
   "cell_type": "code",
   "execution_count": 70,
   "id": "3a4a6e76",
   "metadata": {},
   "outputs": [
    {
     "data": {
      "text/plain": [
       "(7616, 1000)"
      ]
     },
     "execution_count": 70,
     "metadata": {},
     "output_type": "execute_result"
    }
   ],
   "source": [
    "from sklearn.feature_extraction.text import CountVectorizer, TfidfVectorizer\n",
    "cv2 = TfidfVectorizer(stop_words='english', max_features=1000, min_df=5, max_df = .5, ngram_range = (1,2))\n",
    "X2 = cv2.fit_transform(docs_list_clean)\n",
    "\n",
    "df_X2 = pd.DataFrame(X2.toarray(), columns=cv2.get_feature_names())\n",
    "df_X2.shape"
   ]
  },
  {
   "cell_type": "code",
   "execution_count": 71,
   "id": "f6081402",
   "metadata": {},
   "outputs": [
    {
     "data": {
      "text/plain": [
       "array([0.00415813, 0.00981647, 0.00850132, 0.00804657, 0.00721237,\n",
       "       0.0069782 , 0.00636739, 0.00615118])"
      ]
     },
     "execution_count": 71,
     "metadata": {},
     "output_type": "execute_result"
    }
   ],
   "source": [
    "from sklearn.decomposition import TruncatedSVD, NMF\n",
    "\n",
    "num_topics = 8\n",
    "topics = TruncatedSVD(num_topics)\n",
    "doc_topic = topics.fit_transform(X2)\n",
    "topics.explained_variance_ratio_"
   ]
  },
  {
   "cell_type": "code",
   "execution_count": 72,
   "id": "d45ab904",
   "metadata": {
    "scrolled": true
   },
   "outputs": [
    {
     "name": "stdout",
     "output_type": "stream",
     "text": [
      "\n",
      "Topic  0\n",
      "good, great, like, check, come, love, shop, drink, time, austin\n",
      "\n",
      "Topic  1\n",
      "gelato, flavor, cream, try, ice, chocolate, sweet, taste, ice cream, like\n",
      "\n",
      "Topic  2\n",
      "great, gelato, breakfast, taco, breakfast taco, great coffee, love, staff, friendly, flavor\n",
      "\n",
      "Topic  3\n",
      "breakfast, taco, breakfast taco, food, order, tea, wait, egg, sandwich, toast\n",
      "\n",
      "Topic  4\n",
      "latte, taco, shop, coffee shop, breakfast, breakfast taco, moon, milk, ice, vanilla\n",
      "\n",
      "Topic  5\n",
      "tea, great, latte, love, milk, cream, chai, drink, sweet, chicken\n",
      "\n",
      "Topic  6\n",
      "good, good coffee, pretty, nice, coffee good, latte, study, parking, lot, pretty good\n",
      "\n",
      "Topic  7\n",
      "shop, coffee shop, tea, cream, waffle, chicken, favorite, sandwich, breakfast, puff\n"
     ]
    }
   ],
   "source": [
    "display_topics(topics, cv2.get_feature_names(), 10)"
   ]
  },
  {
   "cell_type": "code",
   "execution_count": null,
   "id": "6ce12679",
   "metadata": {},
   "outputs": [],
   "source": []
  },
  {
   "cell_type": "code",
   "execution_count": 77,
   "id": "bdfd2cf1",
   "metadata": {},
   "outputs": [
    {
     "data": {
      "text/plain": [
       "(7616, 1000)"
      ]
     },
     "execution_count": 77,
     "metadata": {},
     "output_type": "execute_result"
    }
   ],
   "source": [
    "from sklearn.feature_extraction.text import CountVectorizer, TfidfVectorizer\n",
    "cv2 = TfidfVectorizer(stop_words='english', max_features=1000, min_df=10, max_df = .5, ngram_range = (1,2))\n",
    "X2 = cv2.fit_transform(docs_list_clean)\n",
    "\n",
    "df_X2 = pd.DataFrame(X2.toarray(), columns=cv2.get_feature_names())\n",
    "df_X2.shape"
   ]
  },
  {
   "cell_type": "code",
   "execution_count": 33,
   "id": "a5815b02",
   "metadata": {
    "scrolled": true
   },
   "outputs": [
    {
     "name": "stdout",
     "output_type": "stream",
     "text": [
      "\n",
      "Topic  0\n",
      "good, great, like, check coffee, come coffee, love, shop, drink, time, austin\n",
      "\n",
      "Topic  1\n",
      "gelato, flavor, cream puff, try, chocolate chip, ice, sweet, taste, ice cream, like\n",
      "\n",
      "Topic  2\n",
      "great, gelato, breakfast, taco, breakfast taco, great coffee, staff, friendly, love, flavor\n",
      "\n",
      "Topic  3\n",
      "breakfast, taco, breakfast taco, organic, food, tea, wait, egg, satisfy, toast\n",
      "\n",
      "Topic  4\n",
      "taco, latte, shop, coffee spot, breakfast, breakfast taco, moon milk, milk, vanilla, ice\n",
      "\n",
      "Topic  5\n",
      "tea, great, latte, milk, love, chai, ice, drink, cream puff, sweet\n",
      "\n",
      "Topic  6\n",
      "good, good coffee, pretty good, nice place, coffee great, parking lot, study, seating, lot, cream puff\n",
      "\n",
      "Topic  7\n",
      "good, great, good coffee, cup coffee, brew, espresso, latte, service, cold brew, barista\n"
     ]
    }
   ],
   "source": [
    "display_topics(topics, cv2.get_feature_names(), 10)"
   ]
  },
  {
   "cell_type": "markdown",
   "id": "1654c94f",
   "metadata": {},
   "source": [
    "topic 6 could be about the physical shop location. topic 7 could be about the actual coffee"
   ]
  },
  {
   "cell_type": "code",
   "execution_count": 92,
   "id": "3ff7b649",
   "metadata": {},
   "outputs": [
    {
     "data": {
      "text/plain": [
       "array([0.00423145, 0.00922652, 0.00817088, 0.00735101, 0.00694145,\n",
       "       0.00643069, 0.00621936, 0.00581451])"
      ]
     },
     "execution_count": 92,
     "metadata": {},
     "output_type": "execute_result"
    }
   ],
   "source": [
    "#Testing to see what 2 topics looks like with the updated hyper parameters\n",
    "\n",
    "from sklearn.decomposition import TruncatedSVD, NMF\n",
    "\n",
    "num_topics = 8\n",
    "topics = TruncatedSVD(num_topics)\n",
    "doc_topic = topics.fit_transform(X2)\n",
    "topics.explained_variance_ratio_"
   ]
  },
  {
   "cell_type": "code",
   "execution_count": 39,
   "id": "fcecd91e",
   "metadata": {},
   "outputs": [
    {
     "data": {
      "text/plain": [
       "(7616, 1000)"
      ]
     },
     "execution_count": 39,
     "metadata": {},
     "output_type": "execute_result"
    }
   ],
   "source": [
    "from sklearn.feature_extraction.text import CountVectorizer, TfidfVectorizer\n",
    "cv2 = TfidfVectorizer(stop_words='english', max_features=1000, min_df=5, max_df = .1, ngram_range = (1,2))\n",
    "X2 = cv2.fit_transform(docs_list_clean)\n",
    "\n",
    "df_X2 = pd.DataFrame(X2.toarray(), columns=cv2.get_feature_names())\n",
    "df_X2.shape"
   ]
  },
  {
   "cell_type": "code",
   "execution_count": 40,
   "id": "302dc97d",
   "metadata": {
    "scrolled": true
   },
   "outputs": [
    {
     "name": "stdout",
     "output_type": "stream",
     "text": [
      "\n",
      "Topic  0\n",
      "breakfast, taco, ice, espresso, cool, study, gelato, cup, enjoy, area\n",
      "\n",
      "Topic  1\n",
      "gelato, cream, ice cream, ice, chocolate, italy, pacha, puff, good food, item\n"
     ]
    }
   ],
   "source": [
    "display_topics(topics, cv2.get_feature_names(), 10)"
   ]
  },
  {
   "cell_type": "code",
   "execution_count": null,
   "id": "62261709",
   "metadata": {},
   "outputs": [],
   "source": []
  },
  {
   "cell_type": "code",
   "execution_count": 36,
   "id": "db4c6180",
   "metadata": {},
   "outputs": [
    {
     "data": {
      "text/plain": [
       "(7616, 1000)"
      ]
     },
     "execution_count": 36,
     "metadata": {},
     "output_type": "execute_result"
    }
   ],
   "source": [
    "from sklearn.feature_extraction.text import CountVectorizer, TfidfVectorizer, ENGLISH_STOP_WORDS\n",
    "cv2 = TfidfVectorizer(stop_words='english', max_features=1000, min_df=10, max_df = .5, ngram_range = (1,2))\n",
    "X2 = cv2.fit_transform(docs_list_clean)\n",
    "\n",
    "df_X2 = pd.DataFrame(X2.toarray(), columns=cv2.get_feature_names())\n",
    "df_X2.shape"
   ]
  },
  {
   "cell_type": "code",
   "execution_count": 37,
   "id": "005eb3cd",
   "metadata": {
    "scrolled": true
   },
   "outputs": [
    {
     "name": "stdout",
     "output_type": "stream",
     "text": [
      "\n",
      "Topic  0\n",
      "glad, good thing, lemonade, chance, coffeehouse, loud, section, don think, thank, authentic\n",
      "\n",
      "Topic  1\n",
      "fun, figure, cover, truck, chicken waffle, houndstooth, super friendly, syrup, house, lemonade\n",
      "\n",
      "Topic  2\n",
      "good thing, fun, bottle, surprise, bread, goodness, soy, french toast, loud, figure\n",
      "\n",
      "Topic  3\n",
      "bottle, surprise, bread, oh, flavorful, tap, visit austin, easily, run, tip\n",
      "\n",
      "Topic  4\n",
      "surprise, lake, section, coffee flavor, bottle, bread, moment, mention, usual, houndstooth\n",
      "\n",
      "Topic  5\n",
      "tap, good thing, lake, mention, loud, cashier, houndstooth, don think, cover, super friendly\n",
      "\n",
      "Topic  6\n",
      "glad, glass, porch, near, coffee bean, owner, stop, sample, long, cover\n",
      "\n",
      "Topic  7\n",
      "glad, good thing, glass, cream puff, break, enjoy, lake, scone, coffee spot, bartender\n"
     ]
    }
   ],
   "source": [
    "display_topics(topics, cv2.get_feature_names(), 10)"
   ]
  },
  {
   "cell_type": "code",
   "execution_count": 87,
   "id": "100bb701",
   "metadata": {},
   "outputs": [],
   "source": [
    "from sklearn.feature_extraction.text import CountVectorizer, TfidfVectorizer, ENGLISH_STOP_WORDS\n",
    "stop_words = ENGLISH_STOP_WORDS.union(['coffee', 'gelato', 'good'])"
   ]
  },
  {
   "cell_type": "code",
   "execution_count": 91,
   "id": "ccf4a952",
   "metadata": {},
   "outputs": [
    {
     "data": {
      "text/plain": [
       "(7616, 1000)"
      ]
     },
     "execution_count": 91,
     "metadata": {},
     "output_type": "execute_result"
    }
   ],
   "source": [
    "from sklearn.feature_extraction.text import CountVectorizer, TfidfVectorizer, ENGLISH_STOP_WORDS\n",
    "cv2 = TfidfVectorizer(stop_words=stop_words, max_features=1000, min_df=10, max_df = .5, ngram_range = (1,3))\n",
    "X2 = cv2.fit_transform(docs_list_clean)\n",
    "\n",
    "df_X2 = pd.DataFrame(X2.toarray(), columns=cv2.get_feature_names())\n",
    "df_X2.shape"
   ]
  },
  {
   "cell_type": "code",
   "execution_count": 93,
   "id": "f1fa592b",
   "metadata": {
    "scrolled": false
   },
   "outputs": [
    {
     "name": "stdout",
     "output_type": "stream",
     "text": [
      "\n",
      "Topic  0\n",
      "great, like, check, come, love, shop, drink, time, austin, latte\n",
      "\n",
      "Topic  1\n",
      "great, staff, friendly, taco, breakfast, great place, atmosphere, breakfast taco, beer, food\n",
      "\n",
      "Topic  2\n",
      "breakfast, taco, breakfast taco, delicious, sandwich, egg, food, cream, love, order\n",
      "\n",
      "Topic  3\n",
      "great, cream, love, ice, latte, tea, friendly, flavor, puff, staff\n",
      "\n",
      "Topic  4\n",
      "latte, taco, breakfast taco, shop, moon, milk, breakfast, barista, espresso, vanilla\n",
      "\n",
      "Topic  5\n",
      "tea, latte, chai, chicken, food, milk, nice, study, waffle, table\n",
      "\n",
      "Topic  6\n",
      "cream, puff, taco, flavor, cream puff, breakfast, ice cream, lot, breakfast taco, parking\n",
      "\n",
      "Topic  7\n",
      "great, brew, tea, cold, cold brew, service, cream, like, great place, taco\n"
     ]
    }
   ],
   "source": [
    "display_topics(topics, cv2.get_feature_names(), 10)"
   ]
  },
  {
   "cell_type": "code",
   "execution_count": 97,
   "id": "08b27446",
   "metadata": {},
   "outputs": [],
   "source": [
    "from sklearn.decomposition import NMF"
   ]
  },
  {
   "cell_type": "code",
   "execution_count": 106,
   "id": "f7a69929",
   "metadata": {},
   "outputs": [
    {
     "name": "stderr",
     "output_type": "stream",
     "text": [
      "/home/aziker/anaconda3/envs/metis/lib/python3.8/site-packages/sklearn/decomposition/_nmf.py:312: FutureWarning: The 'init' value, when 'init=None' and n_components is less than n_samples and n_features, will be changed from 'nndsvd' to 'nndsvda' in 1.1 (renaming of 0.26).\n",
      "  warnings.warn((\"The 'init' value, when 'init=None' and \"\n"
     ]
    },
    {
     "data": {
      "text/plain": [
       "(7616, 8)"
      ]
     },
     "execution_count": 106,
     "metadata": {},
     "output_type": "execute_result"
    }
   ],
   "source": [
    "nmf_model = NMF(8)\n",
    "nmf_doc_topic = nmf_model.fit_transform(X2)\n",
    "nmf_doc_topic.shape"
   ]
  },
  {
   "cell_type": "code",
   "execution_count": 103,
   "id": "e2627dcc",
   "metadata": {},
   "outputs": [
    {
     "name": "stdout",
     "output_type": "stream",
     "text": [
      "\n",
      "Topic  0\n",
      "like, time, come, work, people, don, shop, order, drink, ve\n",
      "\n",
      "Topic  1\n",
      "great, great place, atmosphere, service, check great, food, check, beer, place great, spot\n",
      "\n",
      "Topic  2\n",
      "taco, breakfast, breakfast taco, egg, morning, sandwich, food, cheese, bacon, delicious\n",
      "\n",
      "Topic  3\n",
      "love, friendly, staff, super, love place, friendly staff, austin, shop, staff friendly, super friendly\n",
      "\n",
      "Topic  4\n",
      "latte, milk, moon, vanilla, chai, sweet, drink, iced, vanilla latte, ice\n",
      "\n",
      "Topic  5\n",
      "tea, chicken, boba, waffle, milk tea, chai, toast, green, food, milk\n",
      "\n",
      "Topic  6\n",
      "cream, flavor, puff, ice, ice cream, chocolate, cream puff, cookie, try, sweet\n",
      "\n",
      "Topic  7\n",
      "brew, cold, cold brew, check, strong, ice, iced, tap, stop, day\n"
     ]
    }
   ],
   "source": [
    "display_topics(nmf_model, cv2.get_feature_names(), 10)"
   ]
  },
  {
   "cell_type": "code",
   "execution_count": 104,
   "id": "1604485a",
   "metadata": {},
   "outputs": [],
   "source": [
    "stop_words = ENGLISH_STOP_WORDS.union(['coffee', 'gelato', 'good', 'great', 'like'])"
   ]
  },
  {
   "cell_type": "code",
   "execution_count": 105,
   "id": "0dc03b08",
   "metadata": {},
   "outputs": [
    {
     "data": {
      "text/plain": [
       "(7616, 1000)"
      ]
     },
     "execution_count": 105,
     "metadata": {},
     "output_type": "execute_result"
    }
   ],
   "source": [
    "from sklearn.feature_extraction.text import CountVectorizer, TfidfVectorizer, ENGLISH_STOP_WORDS\n",
    "cv2 = TfidfVectorizer(stop_words=stop_words, max_features=1000, min_df=10, max_df = .4, ngram_range = (1,3))\n",
    "X2 = cv2.fit_transform(docs_list_clean)\n",
    "\n",
    "df_X2 = pd.DataFrame(X2.toarray(), columns=cv2.get_feature_names())\n",
    "df_X2.shape"
   ]
  },
  {
   "cell_type": "code",
   "execution_count": 106,
   "id": "7d9ebdd7",
   "metadata": {},
   "outputs": [
    {
     "name": "stderr",
     "output_type": "stream",
     "text": [
      "/home/aziker/anaconda3/envs/metis/lib/python3.8/site-packages/sklearn/decomposition/_nmf.py:312: FutureWarning: The 'init' value, when 'init=None' and n_components is less than n_samples and n_features, will be changed from 'nndsvd' to 'nndsvda' in 1.1 (renaming of 0.26).\n",
      "  warnings.warn((\"The 'init' value, when 'init=None' and \"\n"
     ]
    },
    {
     "data": {
      "text/plain": [
       "(7616, 8)"
      ]
     },
     "execution_count": 106,
     "metadata": {},
     "output_type": "execute_result"
    }
   ],
   "source": [
    "nmf_model = NMF(8)\n",
    "nmf_doc_topic = nmf_model.fit_transform(X2)\n",
    "nmf_doc_topic.shape"
   ]
  },
  {
   "cell_type": "code",
   "execution_count": 107,
   "id": "543090ec",
   "metadata": {},
   "outputs": [
    {
     "name": "stdout",
     "output_type": "stream",
     "text": [
      "\n",
      "Topic  0\n",
      "work, shop, lot, nice, parking, table, seating, seat, music, spot\n",
      "\n",
      "Topic  1\n",
      "taco, breakfast, breakfast taco, egg, morning, sandwich, food, cheese, bacon, deli\n",
      "\n",
      "Topic  2\n",
      "time, order, come, drink, ve, service, wait, don, know, try\n",
      "\n",
      "Topic  3\n",
      "latte, milk, moon, vanilla, chai, sweet, iced, vanilla latte, drink, ice\n",
      "\n",
      "Topic  4\n",
      "love, friendly, staff, super, love place, atmosphere, friendly staff, awesome, staff friendly, delicious\n",
      "\n",
      "Topic  5\n",
      "tea, chicken, boba, milk tea, chai, waffle, green, chai tea, milk, toast\n",
      "\n",
      "Topic  6\n",
      "cream, flavor, puff, ice, ice cream, chocolate, cream puff, cookie, try, sweet\n",
      "\n",
      "Topic  7\n",
      "brew, cold, cold brew, strong, ice, iced, tap, day, stop, cup\n"
     ]
    }
   ],
   "source": [
    "display_topics(nmf_model, cv2.get_feature_names(), 10)"
   ]
  },
  {
   "cell_type": "markdown",
   "id": "8a358b95",
   "metadata": {},
   "source": [
    "given the clarity of topics present in this cell, I will use this NMF model's doc/topic matrix to produce a recommendation system. While some of the topics overlap slightly, in general we see key categories for determining the excellence of a coffee shop such as location, breakfast food, service, hot tea, hot coffee, sweet treats, and iced coffee"
   ]
  },
  {
   "cell_type": "code",
   "execution_count": 216,
   "id": "c3f1ae19",
   "metadata": {},
   "outputs": [],
   "source": [
    "new_df = pd.DataFrame(nmf_doc_topic)\n",
    "new_df.columns = ['topic_0', 'topic_1', 'topic_2', 'topic_3', 'topic_4', 'topic_5', 'topic_6', 'topic_7']"
   ]
  },
  {
   "cell_type": "code",
   "execution_count": 262,
   "id": "4f492ff1",
   "metadata": {},
   "outputs": [],
   "source": [
    "#in earlier copy, a suggestion output showed that summermoon coffee bar existed as 2 different names, fixing this here\n",
    "df.name.replace(to_replace = 'Summer Moon Coffee Bar ', value='Summermoon Coffee Bar ', inplace=True)"
   ]
  },
  {
   "cell_type": "code",
   "execution_count": 263,
   "id": "b085d584",
   "metadata": {},
   "outputs": [
    {
     "data": {
      "text/html": [
       "<div>\n",
       "<style scoped>\n",
       "    .dataframe tbody tr th:only-of-type {\n",
       "        vertical-align: middle;\n",
       "    }\n",
       "\n",
       "    .dataframe tbody tr th {\n",
       "        vertical-align: top;\n",
       "    }\n",
       "\n",
       "    .dataframe thead th {\n",
       "        text-align: right;\n",
       "    }\n",
       "</style>\n",
       "<table border=\"1\" class=\"dataframe\">\n",
       "  <thead>\n",
       "    <tr style=\"text-align: right;\">\n",
       "      <th></th>\n",
       "      <th>topic_0</th>\n",
       "      <th>topic_1</th>\n",
       "      <th>topic_2</th>\n",
       "      <th>topic_3</th>\n",
       "      <th>topic_4</th>\n",
       "      <th>topic_5</th>\n",
       "      <th>topic_6</th>\n",
       "      <th>topic_7</th>\n",
       "      <th>review</th>\n",
       "      <th>rating</th>\n",
       "      <th>name</th>\n",
       "    </tr>\n",
       "  </thead>\n",
       "  <tbody>\n",
       "    <tr>\n",
       "      <th>0</th>\n",
       "      <td>0.003408</td>\n",
       "      <td>0.000000</td>\n",
       "      <td>0.008788</td>\n",
       "      <td>0.097035</td>\n",
       "      <td>0.052656</td>\n",
       "      <td>0.006470</td>\n",
       "      <td>0.000000</td>\n",
       "      <td>0.000000</td>\n",
       "      <td>check in love love loved the atmosphe...</td>\n",
       "      <td>5</td>\n",
       "      <td>The Factory - Cafe With a Soul</td>\n",
       "    </tr>\n",
       "    <tr>\n",
       "      <th>1</th>\n",
       "      <td>0.034141</td>\n",
       "      <td>0.000535</td>\n",
       "      <td>0.000000</td>\n",
       "      <td>0.001177</td>\n",
       "      <td>0.032197</td>\n",
       "      <td>0.016309</td>\n",
       "      <td>0.018436</td>\n",
       "      <td>0.000000</td>\n",
       "      <td>listed in date night  austin  ambiance ...</td>\n",
       "      <td>4</td>\n",
       "      <td>The Factory - Cafe With a Soul</td>\n",
       "    </tr>\n",
       "    <tr>\n",
       "      <th>2</th>\n",
       "      <td>0.027451</td>\n",
       "      <td>0.000000</td>\n",
       "      <td>0.010269</td>\n",
       "      <td>0.000000</td>\n",
       "      <td>0.000166</td>\n",
       "      <td>0.077941</td>\n",
       "      <td>0.026688</td>\n",
       "      <td>0.050174</td>\n",
       "      <td>check in listed in brunch spots i lov...</td>\n",
       "      <td>4</td>\n",
       "      <td>The Factory - Cafe With a Soul</td>\n",
       "    </tr>\n",
       "    <tr>\n",
       "      <th>3</th>\n",
       "      <td>0.050254</td>\n",
       "      <td>0.000282</td>\n",
       "      <td>0.000000</td>\n",
       "      <td>0.042862</td>\n",
       "      <td>0.000000</td>\n",
       "      <td>0.011425</td>\n",
       "      <td>0.000000</td>\n",
       "      <td>0.002755</td>\n",
       "      <td>very cool decor  good drinks nice seati...</td>\n",
       "      <td>2</td>\n",
       "      <td>The Factory - Cafe With a Soul</td>\n",
       "    </tr>\n",
       "    <tr>\n",
       "      <th>4</th>\n",
       "      <td>0.022367</td>\n",
       "      <td>0.003361</td>\n",
       "      <td>0.021874</td>\n",
       "      <td>0.000000</td>\n",
       "      <td>0.017531</td>\n",
       "      <td>0.046071</td>\n",
       "      <td>0.012401</td>\n",
       "      <td>0.000000</td>\n",
       "      <td>check in they are located within the ...</td>\n",
       "      <td>4</td>\n",
       "      <td>The Factory - Cafe With a Soul</td>\n",
       "    </tr>\n",
       "  </tbody>\n",
       "</table>\n",
       "</div>"
      ],
      "text/plain": [
       "    topic_0   topic_1   topic_2   topic_3   topic_4   topic_5   topic_6  \\\n",
       "0  0.003408  0.000000  0.008788  0.097035  0.052656  0.006470  0.000000   \n",
       "1  0.034141  0.000535  0.000000  0.001177  0.032197  0.016309  0.018436   \n",
       "2  0.027451  0.000000  0.010269  0.000000  0.000166  0.077941  0.026688   \n",
       "3  0.050254  0.000282  0.000000  0.042862  0.000000  0.011425  0.000000   \n",
       "4  0.022367  0.003361  0.021874  0.000000  0.017531  0.046071  0.012401   \n",
       "\n",
       "    topic_7                                             review  rating  \\\n",
       "0  0.000000           check in love love loved the atmosphe...       5   \n",
       "1  0.000000         listed in date night  austin  ambiance ...       4   \n",
       "2  0.050174           check in listed in brunch spots i lov...       4   \n",
       "3  0.002755         very cool decor  good drinks nice seati...       2   \n",
       "4  0.000000           check in they are located within the ...       4   \n",
       "\n",
       "                              name  \n",
       "0  The Factory - Cafe With a Soul   \n",
       "1  The Factory - Cafe With a Soul   \n",
       "2  The Factory - Cafe With a Soul   \n",
       "3  The Factory - Cafe With a Soul   \n",
       "4  The Factory - Cafe With a Soul   "
      ]
     },
     "execution_count": 263,
     "metadata": {},
     "output_type": "execute_result"
    }
   ],
   "source": [
    "new_df[['review', 'rating', 'name']] = df[['review', 'rating', 'name']]\n",
    "new_df.head()"
   ]
  },
  {
   "cell_type": "code",
   "execution_count": 222,
   "id": "655976b2",
   "metadata": {},
   "outputs": [
    {
     "data": {
      "text/html": [
       "<div>\n",
       "<style scoped>\n",
       "    .dataframe tbody tr th:only-of-type {\n",
       "        vertical-align: middle;\n",
       "    }\n",
       "\n",
       "    .dataframe tbody tr th {\n",
       "        vertical-align: top;\n",
       "    }\n",
       "\n",
       "    .dataframe thead th {\n",
       "        text-align: right;\n",
       "    }\n",
       "</style>\n",
       "<table border=\"1\" class=\"dataframe\">\n",
       "  <thead>\n",
       "    <tr style=\"text-align: right;\">\n",
       "      <th></th>\n",
       "      <th>topic_0</th>\n",
       "      <th>topic_1</th>\n",
       "      <th>topic_2</th>\n",
       "      <th>topic_3</th>\n",
       "      <th>topic_4</th>\n",
       "      <th>topic_5</th>\n",
       "      <th>topic_6</th>\n",
       "      <th>topic_7</th>\n",
       "      <th>review</th>\n",
       "      <th>rating</th>\n",
       "      <th>name</th>\n",
       "    </tr>\n",
       "  </thead>\n",
       "  <tbody>\n",
       "    <tr>\n",
       "      <th>6439</th>\n",
       "      <td>0.121732</td>\n",
       "      <td>0.000957</td>\n",
       "      <td>0.006336</td>\n",
       "      <td>0.0</td>\n",
       "      <td>0.003627</td>\n",
       "      <td>0.0</td>\n",
       "      <td>0.000000</td>\n",
       "      <td>0.000000</td>\n",
       "      <td>hour laid back south austin coffee sh...</td>\n",
       "      <td>4</td>\n",
       "      <td>Strange Brew, Austin Coffee</td>\n",
       "    </tr>\n",
       "    <tr>\n",
       "      <th>2566</th>\n",
       "      <td>0.106321</td>\n",
       "      <td>0.000000</td>\n",
       "      <td>0.000000</td>\n",
       "      <td>0.0</td>\n",
       "      <td>0.006053</td>\n",
       "      <td>0.0</td>\n",
       "      <td>0.000000</td>\n",
       "      <td>0.045736</td>\n",
       "      <td>check ins the location is pretty clos...</td>\n",
       "      <td>5</td>\n",
       "      <td>Flightpath Coffeehouse</td>\n",
       "    </tr>\n",
       "    <tr>\n",
       "      <th>4061</th>\n",
       "      <td>0.103687</td>\n",
       "      <td>0.000000</td>\n",
       "      <td>0.004249</td>\n",
       "      <td>0.0</td>\n",
       "      <td>0.000000</td>\n",
       "      <td>0.0</td>\n",
       "      <td>0.002202</td>\n",
       "      <td>0.002145</td>\n",
       "      <td>check ins this space is beautiful  an...</td>\n",
       "      <td>4</td>\n",
       "      <td>Seventh Flag Coffee Co</td>\n",
       "    </tr>\n",
       "  </tbody>\n",
       "</table>\n",
       "</div>"
      ],
      "text/plain": [
       "       topic_0   topic_1   topic_2  topic_3   topic_4  topic_5   topic_6  \\\n",
       "6439  0.121732  0.000957  0.006336      0.0  0.003627      0.0  0.000000   \n",
       "2566  0.106321  0.000000  0.000000      0.0  0.006053      0.0  0.000000   \n",
       "4061  0.103687  0.000000  0.004249      0.0  0.000000      0.0  0.002202   \n",
       "\n",
       "       topic_7                                             review  rating  \\\n",
       "6439  0.000000           hour laid back south austin coffee sh...       4   \n",
       "2566  0.045736           check ins the location is pretty clos...       5   \n",
       "4061  0.002145           check ins this space is beautiful  an...       4   \n",
       "\n",
       "                              name  \n",
       "6439  Strange Brew, Austin Coffee   \n",
       "2566       Flightpath Coffeehouse   \n",
       "4061       Seventh Flag Coffee Co   "
      ]
     },
     "execution_count": 222,
     "metadata": {},
     "output_type": "execute_result"
    }
   ],
   "source": [
    "new_df.sort_values('topic_0', ascending=False)[:3]"
   ]
  },
  {
   "cell_type": "code",
   "execution_count": 220,
   "id": "03fc838e",
   "metadata": {},
   "outputs": [
    {
     "data": {
      "text/plain": [
       "'         hour laid back south austin coffee shop with live music  more parking and room inside and outside than epoch on north lopp with a similar vibe  though the clientele skews older  and the parking lot fills up when they have a popular act on the lounge side  so expect to park next door at bake house on weekend nights  the lounge side features live music and usually charges a cover  but the coffee shop side includes   seating areas to chat with friends  play games and do work with plugs along the walls  and a quiet study room  there is free wifi  but it s not the most reliable  they sell coffee  espresso drinks  italian soda  bottled juices  beer   wine until midnight  and food includes paninis  premodern salad or quiche  pie by the slice and pastries   bagels  the staff is excellent but there is only one register to order so the line can get long  we love to come to work on our laptops outside in the back  which features picnic tables with umbrellas and a canopy and a large fan  but unfortunately they re down to only   available outlets so it can get pretty  crowded  with only a few people who need to plug in their devices  the other downside is the outlets are right behind the lounge side  so when people step out for a smoke break from the live music they fill up the work space  also the wifi is pretty sporadic  so you have to be prepared for it to be unreliable and be able to work offline or save your progress often  for example  this is the second draft of this review because the wifi went out when i tried to submit my first   overall it s a great place to meet people and work in a the old coffee sign fell down during a storm  now mounted in the back '"
      ]
     },
     "execution_count": 220,
     "metadata": {},
     "output_type": "execute_result"
    }
   ],
   "source": [
    "df.review[6439]"
   ]
  },
  {
   "cell_type": "code",
   "execution_count": 223,
   "id": "eea73b75",
   "metadata": {
    "scrolled": true
   },
   "outputs": [
    {
     "data": {
      "text/html": [
       "<div>\n",
       "<style scoped>\n",
       "    .dataframe tbody tr th:only-of-type {\n",
       "        vertical-align: middle;\n",
       "    }\n",
       "\n",
       "    .dataframe tbody tr th {\n",
       "        vertical-align: top;\n",
       "    }\n",
       "\n",
       "    .dataframe thead th {\n",
       "        text-align: right;\n",
       "    }\n",
       "</style>\n",
       "<table border=\"1\" class=\"dataframe\">\n",
       "  <thead>\n",
       "    <tr style=\"text-align: right;\">\n",
       "      <th></th>\n",
       "      <th>topic_0</th>\n",
       "      <th>topic_1</th>\n",
       "      <th>topic_2</th>\n",
       "      <th>topic_3</th>\n",
       "      <th>topic_4</th>\n",
       "      <th>topic_5</th>\n",
       "      <th>topic_6</th>\n",
       "      <th>topic_7</th>\n",
       "      <th>review</th>\n",
       "      <th>rating</th>\n",
       "      <th>name</th>\n",
       "    </tr>\n",
       "  </thead>\n",
       "  <tbody>\n",
       "    <tr>\n",
       "      <th>7317</th>\n",
       "      <td>0.000000</td>\n",
       "      <td>0.247310</td>\n",
       "      <td>0.0</td>\n",
       "      <td>0.0</td>\n",
       "      <td>0.000000</td>\n",
       "      <td>0.0</td>\n",
       "      <td>0.0</td>\n",
       "      <td>0.0</td>\n",
       "      <td>good breakfast tacos  and decent coffee...</td>\n",
       "      <td>3</td>\n",
       "      <td>Live Oak Market</td>\n",
       "    </tr>\n",
       "    <tr>\n",
       "      <th>3644</th>\n",
       "      <td>0.000635</td>\n",
       "      <td>0.246662</td>\n",
       "      <td>0.0</td>\n",
       "      <td>0.0</td>\n",
       "      <td>0.005781</td>\n",
       "      <td>0.0</td>\n",
       "      <td>0.0</td>\n",
       "      <td>0.0</td>\n",
       "      <td>everything i have had here is amazing  ...</td>\n",
       "      <td>5</td>\n",
       "      <td>Cenote</td>\n",
       "    </tr>\n",
       "    <tr>\n",
       "      <th>1599</th>\n",
       "      <td>0.000000</td>\n",
       "      <td>0.246372</td>\n",
       "      <td>0.0</td>\n",
       "      <td>0.0</td>\n",
       "      <td>0.000000</td>\n",
       "      <td>0.0</td>\n",
       "      <td>0.0</td>\n",
       "      <td>0.0</td>\n",
       "      <td>beware  of their breakfast tacos  they ...</td>\n",
       "      <td>3</td>\n",
       "      <td>Summer Moon Coffee Bar</td>\n",
       "    </tr>\n",
       "  </tbody>\n",
       "</table>\n",
       "</div>"
      ],
      "text/plain": [
       "       topic_0   topic_1  topic_2  topic_3   topic_4  topic_5  topic_6  \\\n",
       "7317  0.000000  0.247310      0.0      0.0  0.000000      0.0      0.0   \n",
       "3644  0.000635  0.246662      0.0      0.0  0.005781      0.0      0.0   \n",
       "1599  0.000000  0.246372      0.0      0.0  0.000000      0.0      0.0   \n",
       "\n",
       "      topic_7                                             review  rating  \\\n",
       "7317      0.0         good breakfast tacos  and decent coffee...       3   \n",
       "3644      0.0         everything i have had here is amazing  ...       5   \n",
       "1599      0.0         beware  of their breakfast tacos  they ...       3   \n",
       "\n",
       "                         name  \n",
       "7317         Live Oak Market   \n",
       "3644                  Cenote   \n",
       "1599  Summer Moon Coffee Bar   "
      ]
     },
     "execution_count": 223,
     "metadata": {},
     "output_type": "execute_result"
    }
   ],
   "source": [
    "new_df.sort_values('topic_1', ascending=False)[:3]"
   ]
  },
  {
   "cell_type": "code",
   "execution_count": 224,
   "id": "e929f7fe",
   "metadata": {},
   "outputs": [
    {
     "data": {
      "text/plain": [
       "'       good breakfast tacos  and decent coffee   i dunno what else to say  '"
      ]
     },
     "execution_count": 224,
     "metadata": {},
     "output_type": "execute_result"
    }
   ],
   "source": [
    "df.review[7317]"
   ]
  },
  {
   "cell_type": "code",
   "execution_count": 225,
   "id": "3b5e135d",
   "metadata": {},
   "outputs": [
    {
     "data": {
      "text/plain": [
       "'       dedicated baristas  never a bad latte  delicious food  instagram   picturesque  austin vibe  colorful and all around awesome at all hours of the  day  '"
      ]
     },
     "execution_count": 225,
     "metadata": {},
     "output_type": "execute_result"
    }
   ],
   "source": [
    "df.review[3664]"
   ]
  },
  {
   "cell_type": "code",
   "execution_count": 226,
   "id": "4b7ff2fb",
   "metadata": {},
   "outputs": [
    {
     "data": {
      "text/html": [
       "<div>\n",
       "<style scoped>\n",
       "    .dataframe tbody tr th:only-of-type {\n",
       "        vertical-align: middle;\n",
       "    }\n",
       "\n",
       "    .dataframe tbody tr th {\n",
       "        vertical-align: top;\n",
       "    }\n",
       "\n",
       "    .dataframe thead th {\n",
       "        text-align: right;\n",
       "    }\n",
       "</style>\n",
       "<table border=\"1\" class=\"dataframe\">\n",
       "  <thead>\n",
       "    <tr style=\"text-align: right;\">\n",
       "      <th></th>\n",
       "      <th>topic_0</th>\n",
       "      <th>topic_1</th>\n",
       "      <th>topic_2</th>\n",
       "      <th>topic_3</th>\n",
       "      <th>topic_4</th>\n",
       "      <th>topic_5</th>\n",
       "      <th>topic_6</th>\n",
       "      <th>topic_7</th>\n",
       "      <th>review</th>\n",
       "      <th>rating</th>\n",
       "      <th>name</th>\n",
       "    </tr>\n",
       "  </thead>\n",
       "  <tbody>\n",
       "    <tr>\n",
       "      <th>6187</th>\n",
       "      <td>0.000000</td>\n",
       "      <td>0.001797</td>\n",
       "      <td>0.124991</td>\n",
       "      <td>0.000000</td>\n",
       "      <td>0.0</td>\n",
       "      <td>0.0</td>\n",
       "      <td>0.0</td>\n",
       "      <td>0.0</td>\n",
       "      <td>check in listed in   reviews in    do...</td>\n",
       "      <td>2</td>\n",
       "      <td>Stinson’s</td>\n",
       "    </tr>\n",
       "    <tr>\n",
       "      <th>578</th>\n",
       "      <td>0.000000</td>\n",
       "      <td>0.000000</td>\n",
       "      <td>0.122489</td>\n",
       "      <td>0.000000</td>\n",
       "      <td>0.0</td>\n",
       "      <td>0.0</td>\n",
       "      <td>0.0</td>\n",
       "      <td>0.0</td>\n",
       "      <td>i am a resident at imt and i like to st...</td>\n",
       "      <td>2</td>\n",
       "      <td>Apanas Coffee &amp; Beer</td>\n",
       "    </tr>\n",
       "    <tr>\n",
       "      <th>2929</th>\n",
       "      <td>0.006128</td>\n",
       "      <td>0.000000</td>\n",
       "      <td>0.119880</td>\n",
       "      <td>0.006582</td>\n",
       "      <td>0.0</td>\n",
       "      <td>0.0</td>\n",
       "      <td>0.0</td>\n",
       "      <td>0.0</td>\n",
       "      <td>footnotes to my terrible experience  cr...</td>\n",
       "      <td>1</td>\n",
       "      <td>Thunderbird Coffee</td>\n",
       "    </tr>\n",
       "  </tbody>\n",
       "</table>\n",
       "</div>"
      ],
      "text/plain": [
       "       topic_0   topic_1   topic_2   topic_3  topic_4  topic_5  topic_6  \\\n",
       "6187  0.000000  0.001797  0.124991  0.000000      0.0      0.0      0.0   \n",
       "578   0.000000  0.000000  0.122489  0.000000      0.0      0.0      0.0   \n",
       "2929  0.006128  0.000000  0.119880  0.006582      0.0      0.0      0.0   \n",
       "\n",
       "      topic_7                                             review  rating  \\\n",
       "6187      0.0           check in listed in   reviews in    do...       2   \n",
       "578       0.0         i am a resident at imt and i like to st...       2   \n",
       "2929      0.0         footnotes to my terrible experience  cr...       1   \n",
       "\n",
       "                       name  \n",
       "6187             Stinson’s   \n",
       "578   Apanas Coffee & Beer   \n",
       "2929    Thunderbird Coffee   "
      ]
     },
     "execution_count": 226,
     "metadata": {},
     "output_type": "execute_result"
    }
   ],
   "source": [
    "new_df.sort_values('topic_2', ascending=False)[:3]"
   ]
  },
  {
   "cell_type": "code",
   "execution_count": 227,
   "id": "a9721034",
   "metadata": {},
   "outputs": [
    {
     "data": {
      "text/plain": [
       "'         check in listed in   reviews in    done and done and done   i m pretty much a coffee shop expert  this morning  i waited   minutes in line for coffee  the guy in front of me waited     i make that point because there was no one in front of him   what there was was a barista who also had to tend the register who was preparing a  drink for someone who came in around minute   and didn t have to wait in line   it s     am     i came here because i wanted an alternative to the ridiculous parking at pacha and even drove through their lot just in case    i was praying for a great experience    that  ruined  it   come on    basic customer service in the morning says you handle the people in line in the order they come in    no special treatment   the dude in front of me was mad    and you could tell    but he kept his composure by doing what looked like a peepee dance     i on the other hand turned my powers to yelp   stinson s has a cool venue    the old converted gas station or vehicle fixer upper place     it s really nice and comfortable inside    but maaaaan    you take a hot dump on a great venue when your customer service is inconsiderate to customers   sure  we were apologized to    but for what   sorry you had to wait while i made a drink for someone else   why did it take so long     this is just going to set the precedent of me being snarky and mean the rest of the day     customer service is critical    especially in the morning when people have things to do   and yes  i wrote this review in less time than it took the guy in front of me to get his coffee while waiting at the counter with no one in front of him   update   so i ve since been informed that there is a texting system where people can text in their orders ahead of time to have them made by the time they show up    so it wasn t the barista s fault at all   it s the terrible concept s fault   you could literally have a scenario like this over and over again every morning   take a lesson from torchy s    there are   registers   one for the current line and the other for the call order online ahead of time customers    there s also staff to cover all the orders   my review stays at   stars  because this is a horrible and poorly thought out concept  '"
      ]
     },
     "execution_count": 227,
     "metadata": {},
     "output_type": "execute_result"
    }
   ],
   "source": [
    "df.review[6187]"
   ]
  },
  {
   "cell_type": "code",
   "execution_count": 229,
   "id": "e0d2ecbe",
   "metadata": {},
   "outputs": [
    {
     "data": {
      "text/plain": [
       "'       i am a resident at imt and i like to stop here when i take my pup for a walk  they have poor customer service  boring demeanor  and i feel like the employees may need a few shots of espresso themselves  no energy  or welcoming smile at this place  i have years of retail management experience and this would never fly   the first time i stepped into the shop a couple weeks ago i was so happy that a coffee shop was so close to my place and i love supporting local  well     i peeked my head in to see if it was ok to bring my dog for a short moment to order and go  i saw a woman at a table near the register with hers so i figured it was fine but wanted to keep us by the door so not to disturb people relaxing  the lady s order was called and when she stepped up the cashier told her next time your dog is not allowed  she said ok sorry and went out in the patio to have her drink  i asked her if she minded that i tie mine by the door  and she told me i come here all the time and have never been told that  i went in ordered and left  i returned the next day and walked in with my pup  made him sit next to me by the walk close to the door to be out of the way and we ordered  i asked if it was fine that i order with him and we leave  the guys said   yes of course do you want a treat    i went in yesterday no problem  stood close to the door and out of the way to order and left with my pup   today was not the case  we went to our normal area to order  and stood  no greeting  no i ll be with you in a moment  no acknowledgement  i waited for the cashier to finish his lively convo with someone he knew and waited  then he took another order from someone wading around the area  and i waited  then a couple walks in and up the counter and when i thought he would turn to take my order he asked for theirs  they didn t know what they wanted and he waited for them to review the menu  all the while i waited  so i left  home coffee and starbucks down the street it is  they have great customer service  coffee ok  they want your money and they want you to return  '"
      ]
     },
     "execution_count": 229,
     "metadata": {},
     "output_type": "execute_result"
    }
   ],
   "source": [
    "df.review[578]"
   ]
  },
  {
   "cell_type": "markdown",
   "id": "ffeabc2d",
   "metadata": {},
   "source": [
    "looks like topic 2 is negative reviews about customer service"
   ]
  },
  {
   "cell_type": "code",
   "execution_count": null,
   "id": "4cf66d6f",
   "metadata": {},
   "outputs": [],
   "source": []
  },
  {
   "cell_type": "markdown",
   "id": "4636456f",
   "metadata": {},
   "source": [
    "We want our recommender to give us the name of a coffee shop, and not an individual reveiw, so we are going to aggregate the topic weights for all reveiws for a given shop"
   ]
  },
  {
   "cell_type": "code",
   "execution_count": 264,
   "id": "ed622ee3",
   "metadata": {},
   "outputs": [
    {
     "data": {
      "text/html": [
       "<div>\n",
       "<style scoped>\n",
       "    .dataframe tbody tr th:only-of-type {\n",
       "        vertical-align: middle;\n",
       "    }\n",
       "\n",
       "    .dataframe tbody tr th {\n",
       "        vertical-align: top;\n",
       "    }\n",
       "\n",
       "    .dataframe thead th {\n",
       "        text-align: right;\n",
       "    }\n",
       "</style>\n",
       "<table border=\"1\" class=\"dataframe\">\n",
       "  <thead>\n",
       "    <tr style=\"text-align: right;\">\n",
       "      <th></th>\n",
       "      <th>topic_0</th>\n",
       "      <th>topic_1</th>\n",
       "      <th>topic_2</th>\n",
       "      <th>topic_3</th>\n",
       "      <th>topic_4</th>\n",
       "      <th>topic_5</th>\n",
       "      <th>topic_6</th>\n",
       "      <th>topic_7</th>\n",
       "      <th>rating</th>\n",
       "    </tr>\n",
       "    <tr>\n",
       "      <th>name</th>\n",
       "      <th></th>\n",
       "      <th></th>\n",
       "      <th></th>\n",
       "      <th></th>\n",
       "      <th></th>\n",
       "      <th></th>\n",
       "      <th></th>\n",
       "      <th></th>\n",
       "      <th></th>\n",
       "    </tr>\n",
       "  </thead>\n",
       "  <tbody>\n",
       "    <tr>\n",
       "      <th>Alta’s Cafe</th>\n",
       "      <td>0.028647</td>\n",
       "      <td>0.011104</td>\n",
       "      <td>0.018421</td>\n",
       "      <td>0.007914</td>\n",
       "      <td>0.017422</td>\n",
       "      <td>0.007884</td>\n",
       "      <td>0.004334</td>\n",
       "      <td>0.007049</td>\n",
       "      <td>3.930000</td>\n",
       "    </tr>\n",
       "    <tr>\n",
       "      <th>Anderson’s Coffee Company</th>\n",
       "      <td>0.006288</td>\n",
       "      <td>0.000455</td>\n",
       "      <td>0.035010</td>\n",
       "      <td>0.001989</td>\n",
       "      <td>0.026647</td>\n",
       "      <td>0.017241</td>\n",
       "      <td>0.004508</td>\n",
       "      <td>0.010605</td>\n",
       "      <td>4.620000</td>\n",
       "    </tr>\n",
       "    <tr>\n",
       "      <th>Apanas Coffee &amp; Beer</th>\n",
       "      <td>0.027755</td>\n",
       "      <td>0.002809</td>\n",
       "      <td>0.017791</td>\n",
       "      <td>0.016638</td>\n",
       "      <td>0.034814</td>\n",
       "      <td>0.005752</td>\n",
       "      <td>0.003983</td>\n",
       "      <td>0.003641</td>\n",
       "      <td>4.580882</td>\n",
       "    </tr>\n",
       "    <tr>\n",
       "      <th>Arturo’s Underground Cafe</th>\n",
       "      <td>0.012415</td>\n",
       "      <td>0.035405</td>\n",
       "      <td>0.031274</td>\n",
       "      <td>0.003378</td>\n",
       "      <td>0.020472</td>\n",
       "      <td>0.009828</td>\n",
       "      <td>0.006452</td>\n",
       "      <td>0.002625</td>\n",
       "      <td>4.300000</td>\n",
       "    </tr>\n",
       "    <tr>\n",
       "      <th>Bennu Coffee</th>\n",
       "      <td>0.031105</td>\n",
       "      <td>0.002171</td>\n",
       "      <td>0.021774</td>\n",
       "      <td>0.013902</td>\n",
       "      <td>0.021223</td>\n",
       "      <td>0.008568</td>\n",
       "      <td>0.011415</td>\n",
       "      <td>0.003386</td>\n",
       "      <td>4.130000</td>\n",
       "    </tr>\n",
       "    <tr>\n",
       "      <th>...</th>\n",
       "      <td>...</td>\n",
       "      <td>...</td>\n",
       "      <td>...</td>\n",
       "      <td>...</td>\n",
       "      <td>...</td>\n",
       "      <td>...</td>\n",
       "      <td>...</td>\n",
       "      <td>...</td>\n",
       "      <td>...</td>\n",
       "    </tr>\n",
       "    <tr>\n",
       "      <th>Thunderbird Coffee</th>\n",
       "      <td>0.035359</td>\n",
       "      <td>0.008218</td>\n",
       "      <td>0.021365</td>\n",
       "      <td>0.025463</td>\n",
       "      <td>0.016057</td>\n",
       "      <td>0.006235</td>\n",
       "      <td>0.004854</td>\n",
       "      <td>0.004642</td>\n",
       "      <td>3.970000</td>\n",
       "    </tr>\n",
       "    <tr>\n",
       "      <th>Trianon Coffee</th>\n",
       "      <td>0.021453</td>\n",
       "      <td>0.014480</td>\n",
       "      <td>0.022739</td>\n",
       "      <td>0.014326</td>\n",
       "      <td>0.033855</td>\n",
       "      <td>0.007879</td>\n",
       "      <td>0.004513</td>\n",
       "      <td>0.006964</td>\n",
       "      <td>4.020408</td>\n",
       "    </tr>\n",
       "    <tr>\n",
       "      <th>Tuscany At 360</th>\n",
       "      <td>0.031553</td>\n",
       "      <td>0.017411</td>\n",
       "      <td>0.019970</td>\n",
       "      <td>0.008707</td>\n",
       "      <td>0.010991</td>\n",
       "      <td>0.010074</td>\n",
       "      <td>0.000915</td>\n",
       "      <td>0.003101</td>\n",
       "      <td>3.818182</td>\n",
       "    </tr>\n",
       "    <tr>\n",
       "      <th>Venezia Italian Gelato</th>\n",
       "      <td>0.008464</td>\n",
       "      <td>0.001657</td>\n",
       "      <td>0.018749</td>\n",
       "      <td>0.002764</td>\n",
       "      <td>0.024429</td>\n",
       "      <td>0.001596</td>\n",
       "      <td>0.048571</td>\n",
       "      <td>0.001011</td>\n",
       "      <td>4.810000</td>\n",
       "    </tr>\n",
       "    <tr>\n",
       "      <th>Vintage Heart Coffee</th>\n",
       "      <td>0.030529</td>\n",
       "      <td>0.000685</td>\n",
       "      <td>0.013212</td>\n",
       "      <td>0.043365</td>\n",
       "      <td>0.020652</td>\n",
       "      <td>0.009508</td>\n",
       "      <td>0.006747</td>\n",
       "      <td>0.027442</td>\n",
       "      <td>4.170000</td>\n",
       "    </tr>\n",
       "  </tbody>\n",
       "</table>\n",
       "<p>78 rows × 9 columns</p>\n",
       "</div>"
      ],
      "text/plain": [
       "                             topic_0   topic_1   topic_2   topic_3   topic_4  \\\n",
       "name                                                                           \n",
       "Alta’s Cafe                 0.028647  0.011104  0.018421  0.007914  0.017422   \n",
       "Anderson’s Coffee Company   0.006288  0.000455  0.035010  0.001989  0.026647   \n",
       "Apanas Coffee & Beer        0.027755  0.002809  0.017791  0.016638  0.034814   \n",
       "Arturo’s Underground Cafe   0.012415  0.035405  0.031274  0.003378  0.020472   \n",
       "Bennu Coffee                0.031105  0.002171  0.021774  0.013902  0.021223   \n",
       "...                              ...       ...       ...       ...       ...   \n",
       "Thunderbird Coffee          0.035359  0.008218  0.021365  0.025463  0.016057   \n",
       "Trianon Coffee              0.021453  0.014480  0.022739  0.014326  0.033855   \n",
       "Tuscany At 360              0.031553  0.017411  0.019970  0.008707  0.010991   \n",
       "Venezia Italian Gelato      0.008464  0.001657  0.018749  0.002764  0.024429   \n",
       "Vintage Heart Coffee        0.030529  0.000685  0.013212  0.043365  0.020652   \n",
       "\n",
       "                             topic_5   topic_6   topic_7    rating  \n",
       "name                                                                \n",
       "Alta’s Cafe                 0.007884  0.004334  0.007049  3.930000  \n",
       "Anderson’s Coffee Company   0.017241  0.004508  0.010605  4.620000  \n",
       "Apanas Coffee & Beer        0.005752  0.003983  0.003641  4.580882  \n",
       "Arturo’s Underground Cafe   0.009828  0.006452  0.002625  4.300000  \n",
       "Bennu Coffee                0.008568  0.011415  0.003386  4.130000  \n",
       "...                              ...       ...       ...       ...  \n",
       "Thunderbird Coffee          0.006235  0.004854  0.004642  3.970000  \n",
       "Trianon Coffee              0.007879  0.004513  0.006964  4.020408  \n",
       "Tuscany At 360              0.010074  0.000915  0.003101  3.818182  \n",
       "Venezia Italian Gelato      0.001596  0.048571  0.001011  4.810000  \n",
       "Vintage Heart Coffee        0.009508  0.006747  0.027442  4.170000  \n",
       "\n",
       "[78 rows x 9 columns]"
      ]
     },
     "execution_count": 264,
     "metadata": {},
     "output_type": "execute_result"
    }
   ],
   "source": [
    "grouped_df = new_df.groupby(['name']).mean()\n",
    "grouped_df"
   ]
  },
  {
   "cell_type": "code",
   "execution_count": null,
   "id": "8fbd0228",
   "metadata": {},
   "outputs": [],
   "source": []
  },
  {
   "cell_type": "code",
   "execution_count": 265,
   "id": "a3b2616a",
   "metadata": {},
   "outputs": [
    {
     "data": {
      "text/plain": [
       "array([[ 0, 28, 69, 17, 39, 12, 73, 56, 55, 66, 67, 71, 74, 29,  7, 75,\n",
       "        11, 15, 20, 61, 38, 48, 47, 14, 43,  4, 36, 65, 53, 51, 77,  8,\n",
       "        32, 34, 54, 64, 25, 62, 60, 31, 35, 33,  3, 63, 18, 19, 10, 58,\n",
       "        52, 57, 68, 45, 21,  9,  6, 44, 59, 50, 22, 41, 13, 27, 23,  2,\n",
       "         1, 30, 16, 49, 24, 40, 76, 37, 26, 72,  5, 46, 42, 70]])"
      ]
     },
     "execution_count": 265,
     "metadata": {},
     "output_type": "execute_result"
    }
   ],
   "source": [
    "#testing that the evaluation is working, rating is included as a metric\n",
    "from sklearn.metrics import pairwise_distances\n",
    "pairwise_distances(grouped_df.iloc[0].to_numpy().reshape(1,-1),grouped_df).argsort()"
   ]
  },
  {
   "cell_type": "code",
   "execution_count": 124,
   "id": "59492a26",
   "metadata": {},
   "outputs": [
    {
     "name": "stdout",
     "output_type": "stream",
     "text": [
      "0         0.028647\n",
      "1         0.011104\n",
      "2         0.018421\n",
      "3         0.007914\n",
      "4         0.017422\n",
      "5         0.007884\n",
      "6         0.004334\n",
      "7         0.007049\n",
      "rating    3.930000\n",
      "Name: Alta’s Cafe , dtype: float64\n",
      "0         0.031632\n",
      "1         0.006454\n",
      "2         0.020456\n",
      "3         0.014290\n",
      "4         0.022471\n",
      "5         0.010089\n",
      "6         0.002929\n",
      "7         0.004606\n",
      "rating    3.950000\n",
      "Name: Genuine Joe , dtype: float64\n",
      "0         0.005669\n",
      "1         0.000293\n",
      "2         0.014385\n",
      "3         0.000059\n",
      "4         0.026851\n",
      "5         0.059677\n",
      "6         0.001618\n",
      "7         0.000443\n",
      "rating    5.000000\n",
      "Name: The Marvelous Vintage Tea Party Co. , dtype: float64\n"
     ]
    }
   ],
   "source": [
    "print(grouped_df.iloc[0])\n",
    "print(grouped_df.iloc[28])\n",
    "print(grouped_df.iloc[71])"
   ]
  },
  {
   "cell_type": "markdown",
   "id": "184d7406",
   "metadata": {},
   "source": [
    "Looks like the most and least similar coffee shops based of topic is reasonable, we'll move on to seeing if we can put in a recommendation with just a simple keyword"
   ]
  },
  {
   "cell_type": "code",
   "execution_count": 196,
   "id": "f99d10d4",
   "metadata": {},
   "outputs": [],
   "source": [
    "key = ['atmosphere']"
   ]
  },
  {
   "cell_type": "code",
   "execution_count": 197,
   "id": "aff0f8a9",
   "metadata": {},
   "outputs": [],
   "source": [
    "vt = cv2.transform(key)"
   ]
  },
  {
   "cell_type": "code",
   "execution_count": 198,
   "id": "124d5fbd",
   "metadata": {},
   "outputs": [],
   "source": [
    "tt = nmf_model.transform(vt)"
   ]
  },
  {
   "cell_type": "code",
   "execution_count": 199,
   "id": "4731ad42",
   "metadata": {},
   "outputs": [
    {
     "data": {
      "text/plain": [
       "array([[33,  2, 75, 31,  6, 41, 30, 19, 18, 22, 35, 27, 56, 73, 13, 34,\n",
       "        37,  1, 28, 47,  9,  0, 43, 65, 68,  4, 70, 23, 53, 61, 32, 36,\n",
       "        26, 44,  8, 46, 60, 24, 58, 29, 17, 59, 20, 51, 62,  7, 55, 69,\n",
       "        12, 50, 48, 76, 25, 74, 38, 52,  3, 39, 77, 11, 57, 40, 54, 10,\n",
       "         5, 78, 45, 15, 49, 71, 67, 21, 64, 63, 42, 16, 72, 66, 14]])"
      ]
     },
     "execution_count": 199,
     "metadata": {},
     "output_type": "execute_result"
    }
   ],
   "source": [
    "pairwise_distances(tt,grouped_df.drop(columns='rating')).argsort()\n"
   ]
  },
  {
   "cell_type": "code",
   "execution_count": 201,
   "id": "dec69051",
   "metadata": {},
   "outputs": [
    {
     "name": "stdout",
     "output_type": "stream",
     "text": [
      "Irie Bean Coffee Bar  Apanas Coffee & Beer  Trianon Coffee \n"
     ]
    }
   ],
   "source": [
    "print(grouped_df.iloc[33].name,\\\n",
    "      grouped_df.iloc[2].name,\\\n",
    "      grouped_df.iloc[75].name)\n"
   ]
  },
  {
   "cell_type": "code",
   "execution_count": 272,
   "id": "fb0f40a8",
   "metadata": {},
   "outputs": [],
   "source": [
    "def get_coffee_recs(string_lst,n_recs=3, df=grouped_df,vect=cv2,model=nmf_model):\n",
    "    vt = cv2.transform(string_lst)\n",
    "    tt = model.transform(vt)\n",
    "    top_n = pairwise_distances(tt,df.drop(columns='rating')).argsort().tolist()[0][:n_recs]\n",
    "    recs = []\n",
    "    for i in top_n:\n",
    "        recs.append((df.iloc[i].name, df.iloc[i].rating.round(2)))\n",
    "    return recs"
   ]
  },
  {
   "cell_type": "code",
   "execution_count": 266,
   "id": "4e8e9d02",
   "metadata": {},
   "outputs": [
    {
     "data": {
      "text/plain": [
       "[('Irie Bean Coffee Bar ', 4.3),\n",
       " ('Live Oak Market ', 4.51),\n",
       " ('Apanas Coffee & Beer ', 4.58)]"
      ]
     },
     "execution_count": 266,
     "metadata": {},
     "output_type": "execute_result"
    }
   ],
   "source": [
    "keyword = ['friendly']\n",
    "get_coffee_recs(keyword)"
   ]
  },
  {
   "cell_type": "code",
   "execution_count": 273,
   "id": "80366fee",
   "metadata": {
    "scrolled": true
   },
   "outputs": [
    {
     "data": {
      "text/plain": [
       "[('Summermoon Coffee Bar ', 4.31),\n",
       " ('Brian’s Brew ', 4.84),\n",
       " ('Lola Savannah Coffee Downtown ', 5.0)]"
      ]
     },
     "execution_count": 273,
     "metadata": {},
     "output_type": "execute_result"
    }
   ],
   "source": [
    "keyword = ['latte']\n",
    "get_coffee_recs(keyword)"
   ]
  },
  {
   "cell_type": "code",
   "execution_count": 240,
   "id": "072a3795",
   "metadata": {},
   "outputs": [
    {
     "data": {
      "text/plain": [
       "[('Flightpath Coffeehouse ', 4.23),\n",
       " ('Friends & Neighbors ', 4.55),\n",
       " ('Radio Coffee & Beer ', 4.0)]"
      ]
     },
     "execution_count": 240,
     "metadata": {},
     "output_type": "execute_result"
    }
   ],
   "source": [
    "keyword = ['work']\n",
    "get_coffee_recs(keyword)"
   ]
  }
 ],
 "metadata": {
  "kernelspec": {
   "display_name": "Python [conda env:metis] *",
   "language": "python",
   "name": "conda-env-metis-py"
  },
  "language_info": {
   "codemirror_mode": {
    "name": "ipython",
    "version": 3
   },
   "file_extension": ".py",
   "mimetype": "text/x-python",
   "name": "python",
   "nbconvert_exporter": "python",
   "pygments_lexer": "ipython3",
   "version": "3.8.10"
  }
 },
 "nbformat": 4,
 "nbformat_minor": 5
}
